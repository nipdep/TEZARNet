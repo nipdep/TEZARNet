{
 "cells": [
  {
   "cell_type": "markdown",
   "metadata": {},
   "source": [
    "#### Benchmaking Experiment 006b\n",
    "- Model : Model4\n",
    "- Dataset : PAMAP2\n",
    "- Semantic Space : Glove50\n",
    "- Cross Validation : 5-fold fixed classes\n",
    "- Feature Loss : MSELoss"
   ]
  },
  {
   "cell_type": "code",
   "execution_count": 1,
   "metadata": {},
   "outputs": [],
   "source": [
    "import os \n",
    "from datetime import date\n",
    "from tqdm import tqdm\n",
    "from copy import deepcopy\n",
    "import numpy as np \n",
    "import pandas as pd\n",
    "\n",
    "import torch \n",
    "from torch import nn, Tensor\n",
    "from torch.nn import functional as F\n",
    "from torch.nn.modules import MultiheadAttention, Linear, Dropout, BatchNorm1d, TransformerEncoderLayer\n",
    "from torch.utils.data import Dataset, DataLoader\n",
    "from torch.optim import Adam\n",
    "from torch.nn import MSELoss\n",
    "\n",
    "from src.datasets.data import PAMAP2Reader, DaLiAcReader, UTDReader, OPPReader\n",
    "from src.datasets.dataset import PAMAP2Dataset, DaLiAcDataset, UTDDataset, OPPDataset\n",
    "from src.datasets.utils import load_attribute\n",
    "\n",
    "from src.models.ts_transformer import TSTransformerEncoderClassiregressor, RelativeGlobalAttention\n",
    "from src.models.loss import FeatureLoss, AttributeLoss \n",
    "\n",
    "from src.utils.analysis import action_evaluator\n",
    "from src.utils.distance import jaccard_neigh\n",
    "# from src.running import train_step1, eval_step1\n",
    "\n",
    "import neptune.new as neptune"
   ]
  },
  {
   "cell_type": "code",
   "execution_count": 2,
   "metadata": {},
   "outputs": [
    {
     "name": "stdout",
     "output_type": "stream",
     "text": [
      "https://app.neptune.ai/FYP-Group22/Approach-3/e/APR3-30\n",
      "Remember to stop your run once you’ve finished logging your metadata (https://docs.neptune.ai/api-reference/run#.stop). It will be stopped automatically only when the notebook kernel/interactive console is terminated.\n"
     ]
    }
   ],
   "source": [
    "run = neptune.init(\n",
    "    project=\"FYP-Group22/Approach-3\",\n",
    "    api_token=\"eyJhcGlfYWRkcmVzcyI6Imh0dHBzOi8vYXBwLm5lcHR1bmUuYWkiLCJhcGlfdXJsIjoiaHR0cHM6Ly9hcHAubmVwdHVuZS5haSIsImFwaV9rZXkiOiJkNWJjMDdhNC05NWY5LTQwNWQtYTQyNi0zNjNmYmYwZDg3M2YifQ==\",\n",
    ") "
   ]
  },
  {
   "cell_type": "code",
   "execution_count": 3,
   "metadata": {},
   "outputs": [],
   "source": [
    "# setup model configurations\n",
    "config = {\n",
    "    # general information\n",
    "    \"experiment-name\": \"Approach-3a\", \n",
    "    \"datetime\": date.today(),\n",
    "    \"device\": \"gpu\",\n",
    "    \"dataset\": \"OPP\",\n",
    "    \"Model Core\": \"RelativeGlobalAttention\",\n",
    "    \"Model Head\": \"Pooling\",\n",
    "    \"sem-space\": 'attr',\n",
    "    # model training configs\n",
    "    \"include_feature_loss\": True, \n",
    "    \"folding\": True,\n",
    "    \"lr\": 0.001,\n",
    "    \"n_epochs\": 9,\n",
    "    \"optimizer\": \"adam\",\n",
    "    \"batch_size\": 32,\n",
    "    \"feature_loss\": \"MSE\",\n",
    "    \"loss_alpha\": 0.3,\n",
    "    \"infer_dist\": \"jaccard\",\n",
    "    # model configs\n",
    "    \"d_model\": 128, \n",
    "    \"num_heads\": 2,\n",
    "    # dataset configs\n",
    "    \"window_size\": 1, \n",
    "    \"overlap\": 0.5,\n",
    "    \"sample_freq\": 30,\n",
    "    \"seen_split\": 0.2,\n",
    "    \"unseen_split\": 0.8\n",
    "}"
   ]
  },
  {
   "cell_type": "code",
   "execution_count": 4,
   "metadata": {},
   "outputs": [],
   "source": [
    "run['parameters'] = config"
   ]
  },
  {
   "cell_type": "markdown",
   "metadata": {},
   "source": [
    "---\n",
    "Model Building"
   ]
  },
  {
   "cell_type": "code",
   "execution_count": null,
   "metadata": {},
   "outputs": [],
   "source": [
    "class Model6a(nn.Module):\n",
    "    def __init__(self, in_ft, d_model, num_heads, ft_size, n_classes, max_len=1024, dropout=0.1):\n",
    "        super(Model6a, self).__init__()\n",
    "        self.in_ft = in_ft\n",
    "        self.max_len = max_len\n",
    "        self.d_model = d_model\n",
    "        self.num_heads = num_heads\n",
    "        self.ft_size = ft_size \n",
    "        self.n_classes = n_classes\n",
    "\n",
    "        # feature prep layer\n",
    "        self.DenseL = nn.Linear(in_ft, d_model)\n",
    "        # relative global attention layer\n",
    "        self.AttnL = RelativeGlobalAttention(self.d_model, self.num_heads, self.max_len)\n",
    "        # positional encoding concat <-> 1DConv \n",
    "        self.Act = F.relu#_get_activation_fn(activation)\n",
    "        self.AvgPoolL = nn.AvgPool2d((self.max_len,1))\n",
    "        self.DenseL2 = nn.Linear(self.d_model, self.ft_size)\n",
    "        self.dropout = nn.Dropout1d(dropout)\n",
    "        self.logist = nn.Linear(self.ft_size, self.n_classes)\n",
    "\n",
    "    def forward(self, x):\n",
    "        out = self.DenseL(x)\n",
    "        out = self.AttnL(out)\n",
    "        out = self.Act(out)\n",
    "        out = self.AvgPoolL(out)\n",
    "        out = torch.squeeze(out)\n",
    "        out = self.dropout(out)\n",
    "        out1 = self.DenseL2(out)   \n",
    "        out = self.logist(out1)     \n",
    "        return out, out1"
   ]
  },
  {
   "cell_type": "markdown",
   "metadata": {},
   "source": [
    "---"
   ]
  },
  {
   "cell_type": "code",
   "execution_count": 6,
   "metadata": {},
   "outputs": [],
   "source": [
    "from sklearn.metrics import accuracy_score\n",
    "from sklearn.metrics.pairwise import cosine_similarity"
   ]
  },
  {
   "cell_type": "code",
   "execution_count": 7,
   "metadata": {},
   "outputs": [],
   "source": [
    "def train_step1(model, dataloader, optimizer, loss_module, device, class_names, phase='train', l2_reg=False, loss_alpha=0.7):\n",
    "    model = model.train()\n",
    "\n",
    "    epoch_loss = 0  # total loss of epoch\n",
    "    total_samples = 0  # total samples in epoch\n",
    "\n",
    "    with tqdm(dataloader, unit=\"batch\", desc=phase) as tepoch:\n",
    "        for batch in tepoch:\n",
    "            X, targets, target_feat, target_attr, padding_masks = batch\n",
    "            # print(X, targets, target_feat, target_attr)\n",
    "            X = X.float().to(device)\n",
    "            target_feat = target_feat.float().to(device)\n",
    "            target_attr = target_attr.float().to(device)\n",
    "            targets = targets.long().to(device)\n",
    "            padding_masks = padding_masks.to(device)  # 0s: ignore\n",
    "\n",
    "            # Zero gradients, perform a backward pass, and update the weights.\n",
    "            optimizer.zero_grad()\n",
    "            # forward\n",
    "            # track history if only in train\n",
    "            with torch.set_grad_enabled(phase == 'train'):\n",
    "            # with autocast():\n",
    "                class_output, feat_output = model(X)\n",
    "                class_loss = loss_module['class'](class_output, targets.squeeze())\n",
    "                # print(feat_output.shape, target_feat.shape)\n",
    "                feat_loss = loss_module['feature'](feat_output, target_feat)\n",
    "\n",
    "            loss = loss_alpha*class_loss+(1-loss_alpha)*feat_loss\n",
    "\n",
    "            if phase == 'train':\n",
    "                loss.backward()\n",
    "                optimizer.step()\n",
    "\n",
    "            metrics = {\"loss\": loss.item()}\n",
    "            with torch.no_grad():\n",
    "                total_samples += len(targets)\n",
    "                epoch_loss += loss.item()  # add total loss of batch\n",
    "\n",
    "            # convert feature vector into action class\n",
    "            # using cosine \n",
    "            pred_class = np.argmax(class_output.cpu().detach().numpy(), axis=1)\n",
    "            metrics[\"accuracy\"] = accuracy_score(y_true=targets.cpu().detach().numpy(), y_pred=pred_class)\n",
    "            tepoch.set_postfix(metrics)\n",
    "            \n",
    "    epoch_loss = epoch_loss / total_samples  # average loss per sample for whole epoch\n",
    "    return metrics"
   ]
  },
  {
   "cell_type": "code",
   "execution_count": 8,
   "metadata": {},
   "outputs": [],
   "source": [
    "def eval_step1(model, dataloader, loss_module, device, class_names, target_feat_met, phase='seen', l2_reg=False, print_report=True, show_plot=True, loss_alpha=0.7):\n",
    "    model = model.train()\n",
    "\n",
    "    epoch_loss = 0  # total loss of epoch\n",
    "    total_samples = 0  # total samples in epoch\n",
    "    per_batch = {'target_masks': [], 'targets': [], 'predictions': [], 'metrics': [], 'IDs': []}\n",
    "\n",
    "    with tqdm(dataloader, unit=\"batch\", desc=phase) as tepoch:\n",
    "        for batch in tepoch:\n",
    "            X, targets, target_feat, target_attr, padding_masks = batch\n",
    "            X = X.float().to(device)\n",
    "            target_feat = target_feat.float().to(device)\n",
    "            target_attr = target_attr.float().to(device)\n",
    "            targets = targets.long().to(device)\n",
    "            padding_masks = padding_masks.to(device)  # 0s: ignore\n",
    "            # forward\n",
    "            # track history if only in train\n",
    "            with torch.set_grad_enabled(phase == 'train'):\n",
    "            # with autocast():\n",
    "                class_output, feat_output = model(X)\n",
    "                class_loss = loss_module['class'](class_output, targets.squeeze())\n",
    "                feat_loss = loss_module['feature'](feat_output, target_feat)\n",
    "\n",
    "            loss = loss_alpha*class_loss+(1-loss_alpha)*feat_loss\n",
    "\n",
    "            # convert feature vector into action class\n",
    "            # using cosine \n",
    "            if phase == 'seen':\n",
    "                pred_action = np.argmax(class_output.cpu().detach().numpy(), axis=1)\n",
    "            else:\n",
    "                feat_numpy = torch.sigmoid(feat_output.cpu().detach())\n",
    "                feat_numpy = torch.round(feat_numpy).numpy()\n",
    "                # action_probs = cosine_similarity(feat_numpy, target_feat_met)\n",
    "                # pred_action = np.argmax(action_probs, axis=1)\n",
    "                pred_action = jaccard_neigh(feat_numpy, target_feat_met)\n",
    "                \n",
    "            per_batch['targets'].append(targets.cpu().numpy())\n",
    "            per_batch['predictions'].append(pred_action)\n",
    "            per_batch['metrics'].append([loss.cpu().numpy()])\n",
    "\n",
    "            tepoch.set_postfix({\"loss\": loss.item()})\n",
    "    \n",
    "    all_preds = np.concatenate(per_batch[\"predictions\"])\n",
    "    all_targets = np.concatenate(per_batch[\"targets\"])\n",
    "    metrics_dict = action_evaluator(y_pred=all_preds, y_true=all_targets[:, 0], class_names=class_names, print_report=print_report, show_plot=show_plot)\n",
    "    return metrics_dict"
   ]
  },
  {
   "cell_type": "markdown",
   "metadata": {},
   "source": [
    "---"
   ]
  },
  {
   "cell_type": "code",
   "execution_count": 9,
   "metadata": {},
   "outputs": [],
   "source": [
    "if config['device'] == 'cpu':\n",
    "    device = \"cpu\"\n",
    "else:\n",
    "    device = torch.device(\"cuda:0\" if torch.cuda.is_available() else \"cpu\")"
   ]
  },
  {
   "cell_type": "code",
   "execution_count": 10,
   "metadata": {},
   "outputs": [
    {
     "name": "stdout",
     "output_type": "stream",
     "text": [
      "Reading file 1 of 20\n",
      "Reading file 2 of 20\n",
      "Reading file 3 of 20\n",
      "Reading file 4 of 20\n",
      "Reading file 5 of 20\n",
      "Reading file 6 of 20\n",
      "Reading file 7 of 20\n",
      "Reading file 8 of 20\n",
      "Reading file 9 of 20\n",
      "Reading file 10 of 20\n",
      "Reading file 11 of 20\n",
      "Reading file 12 of 20\n",
      "Reading file 13 of 20\n",
      "Reading file 14 of 20\n",
      "Reading file 15 of 20\n",
      "Reading file 16 of 20\n",
      "Reading file 17 of 20\n",
      "Reading file 18 of 20\n",
      "Reading file 19 of 20\n",
      "Reading file 20 of 20\n"
     ]
    },
    {
     "name": "stderr",
     "output_type": "stream",
     "text": [
      "g:\\FYP\\Codebases\\HAR-ZSL-XAI\\src\\datasets\\data.py:618: VisibleDeprecationWarning: Creating an ndarray from ragged nested sequences (which is a list-or-tuple of lists-or-tuples-or ndarrays with different lengths or shapes) is deprecated. If you meant to do this, you must specify 'dtype=object' when creating the ndarray.\n",
      "  return np.asarray(data), np.asarray(labels, dtype=int), np.array(collection)\n"
     ]
    }
   ],
   "source": [
    "# import PAMAP2 dataset\n",
    "dt = config['dataset']\n",
    "if dt == 'PAMAP2':\n",
    "    dataReader = PAMAP2Reader('./data/PAMAP2_Dataset/Protocol/')\n",
    "elif dt == 'DaLiAc':\n",
    "    dataReader = DaLiAcReader('./data/DaLiAc_Dataset/')\n",
    "elif dt == 'UTD':\n",
    "    dataReader = UTDReader('./data/UTD-MHAD-Inertial/')\n",
    "elif dt == 'OPP':\n",
    "    dataReader = OPPReader('./data/OPP_Dataset/')\n",
    "actionList = dataReader.idToLabel"
   ]
  },
  {
   "cell_type": "code",
   "execution_count": 11,
   "metadata": {},
   "outputs": [
    {
     "data": {
      "text/plain": [
       "(979,)"
      ]
     },
     "execution_count": 11,
     "metadata": {},
     "output_type": "execute_result"
    }
   ],
   "source": [
    "dataReader.data.shape"
   ]
  },
  {
   "cell_type": "code",
   "execution_count": 12,
   "metadata": {},
   "outputs": [],
   "source": [
    "# import PAMAP2 attributes\n",
    "if dt == 'PAMAP2':   \n",
    "    fpath = './data/PAMAP2_Dataset/PAMAP2_attributes.json'\n",
    "elif dt == 'DaLiAc':\n",
    "    fpath = './data/DaLiAc_Dataset/DaLiAc_attributes.json'\n",
    "elif dt == 'UTD':\n",
    "    fpath = './data/UTD-MHAD-Inertial/UTD_attributes.json'\n",
    "elif dt == 'OPP':\n",
    "    fpath = './data/OPP_Dataset/OPP_Attributes.json'\n",
    "\n",
    "activity_dict, attribute_dict, attr_mat = load_attribute(fpath)\n",
    "_, attr_size = attr_mat.shape"
   ]
  },
  {
   "cell_type": "code",
   "execution_count": 13,
   "metadata": {},
   "outputs": [],
   "source": [
    "# Load semantic feature space \n",
    "st = config['sem-space']\n",
    "if dt == 'PAMAP2':\n",
    "    if st == 'glove50-v1':\n",
    "        fpath = './data/PAMAP2_Dataset/glove_features.npy'\n",
    "    elif st == 'glove50-v2':\n",
    "        fpath = './data/PAMAP2_Dataset/glove_featureV2.npy'\n",
    "    elif st == 'video-V1':\n",
    "        fpath = './data/PAMAP2_Dataset/video_pca_ft.npy'\n",
    "    elif st == 'word2vec-v1':\n",
    "        fpath = './data/PAMAP2_Dataset/word2vec_features.npy'\n",
    "    elif st == 'word2vec-v2':\n",
    "        fpath = './data/PAMAP2_Dataset/word2vec_featureV2.npy'\n",
    "    elif st == 'attr':\n",
    "        fpath = './data/PAMAP2_Dataset/attribute_ft.npy'\n",
    "elif dt == 'DaLiAc':\n",
    "    if st == 'glove50-v1':\n",
    "        pass \n",
    "    elif st == 'attr':\n",
    "        fpath = './data/DaLiAc_Dataset/attribute_ft.npy'\n",
    "elif dt == 'UTD':\n",
    "    if st == 'glove50-v1':\n",
    "        pass \n",
    "    elif st == 'attr':\n",
    "        fpath = './data/UTD-MHAD-Inertial/attribute_ft.npy'\n",
    "elif dt == 'OPP':\n",
    "    if st == 'glove50-v1':\n",
    "        pass \n",
    "    elif st == 'attr':\n",
    "        fpath = './data/OPP_Dataset/attribute_ft.npy'\n",
    "\n",
    "feat_mat = np.load(fpath)\n",
    "n_actions, feat_size = feat_mat.shape"
   ]
  },
  {
   "cell_type": "code",
   "execution_count": 14,
   "metadata": {},
   "outputs": [],
   "source": [
    "# run 5-fold running\n",
    "if dt == 'PAMAP2':\n",
    "    fold_classes = [['watching TV', 'house cleaning', 'standing', 'ascending stairs'], ['walking', 'rope jumping', 'sitting', 'descending stairs'], ['playing soccer', 'lying', 'vacuum cleaning', 'computer work'], ['cycling', 'running', 'Nordic walking'], ['ironing', 'car driving', 'folding laundry']]\n",
    "elif dt == 'DaLiAc':\n",
    "    fold_classes = [['sitting', 'vacuuming', 'descending stairs'], ['lying', 'sweeping', 'treadmill running'], ['standing', 'walking', 'cycling'], ['washing dishes', 'ascending stairs', 'rope jumping']]\n",
    "elif dt == 'UTD':\n",
    "    fold_classes = [['swipe left', 'cross arms', 'draw triangle', 'arm curl', 'jogging in place', 'pick up then throw'], ['swipe right', 'basketball shoot', 'bowling', 'tennis serve', 'walking in place', 'squat'], ['wave', 'draw x', 'boxing', 'two hand push', 'sit to stand'], ['clap', 'draw circle clockwise', 'baseball swing', 'knock', 'stand to sit'], ['throw', 'draw circle counter clockwise', 'tennis swing', 'catch', 'lunge']]\n",
    "elif dt == 'OPP':\n",
    "    fold_classes = [['Close Drawer 2', 'Clean Table', 'Toggle Switch', 'Open Drawer 3'], ['Open Fridge', 'Open Door 2', 'Close Drawer 1', 'Open Drawer 2'], ['Drink from Cup', 'Open Drawer 1', 'Close Dishwasher'], ['Close Drawer 3', 'Close Door 2', 'Open Door 1'], ['Close Fridge', 'Open Dishwasher', 'Close Door 1']]\n",
    "\n",
    "fold_cls_ids = [[actionList.index(i) for i in j] for j in fold_classes]"
   ]
  },
  {
   "cell_type": "code",
   "execution_count": 15,
   "metadata": {},
   "outputs": [],
   "source": [
    "if config['dataset'] == 'PAMAP2':\n",
    "    dts = PAMAP2Dataset\n",
    "elif config['dataset'] == 'DaLiAc':\n",
    "    dts = DaLiAcDataset\n",
    "elif config['dataset'] == 'UTD':\n",
    "    dts = UTDDataset\n",
    "elif config['dataset'] == 'OPP':\n",
    "    dts = OPPDataset"
   ]
  },
  {
   "cell_type": "code",
   "execution_count": 16,
   "metadata": {},
   "outputs": [
    {
     "name": "stdout",
     "output_type": "stream",
     "text": [
      "data shape : (979,), seen_data shape : (790,)\n",
      "{'Open Door 1': 45, 'Open Door 2': 43, 'Close Door 1': 38, 'Close Door 2': 40, 'Open Fridge': 129, 'Close Fridge': 131, 'Open Dishwasher': 54, 'Close Dishwasher': 53, 'Open Drawer 1': 50, 'Close Drawer 1': 49, 'Open Drawer 2': 45, 'Close Drawer 2': 44, 'Open Drawer 3': 56, 'Close Drawer 3': 57, 'Clean Table': 17, 'Drink from Cup': 56, 'Toggle Switch': 72}\n",
      "torch.Size([32, 30, 96]) 0.0\n"
     ]
    }
   ],
   "source": [
    "data_dict = dataReader.generate(unseen_classes=fold_cls_ids[0], seen_ratio=0.2, unseen_ratio=0.8, window_size=1, window_overlap=0.5, resample_freq=30)\n",
    "sample_dt = dts(data=data_dict['train']['X'], actions=data_dict['train']['y'], attributes=attr_mat, action_feats=feat_mat, action_classes=data_dict['seen_classes'], seq_len=100)\n",
    "sample_dl = DataLoader(sample_dt, batch_size=32, shuffle=True, pin_memory=True, drop_last=True)\n",
    "for d in sample_dl:\n",
    "    print(d[0].shape, torch.isnan(d[0]).numpy().mean())\n",
    "    break"
   ]
  },
  {
   "cell_type": "code",
   "execution_count": 17,
   "metadata": {},
   "outputs": [
    {
     "data": {
      "text/plain": [
       "(3199, 30, 96)"
      ]
     },
     "execution_count": 17,
     "metadata": {},
     "output_type": "execute_result"
    }
   ],
   "source": [
    "data_dict['train']['X'].shape"
   ]
  },
  {
   "cell_type": "code",
   "execution_count": 18,
   "metadata": {},
   "outputs": [
    {
     "data": {
      "text/plain": [
       "0.0"
      ]
     },
     "execution_count": 18,
     "metadata": {},
     "output_type": "execute_result"
    }
   ],
   "source": [
    "np.isnan(data_dict['train']['X']).mean()"
   ]
  },
  {
   "cell_type": "code",
   "execution_count": 19,
   "metadata": {},
   "outputs": [],
   "source": [
    "def log(fold, phase, metrics):\n",
    "    for m, v in metrics.items():\n",
    "        if fold == 'global':\n",
    "            run[f'global/{m}'].log(v)\n",
    "        else:\n",
    "            run[f\"Fold-{fold}/{phase}/{m}\"].log(v) "
   ]
  },
  {
   "cell_type": "code",
   "execution_count": 21,
   "metadata": {},
   "outputs": [
    {
     "name": "stdout",
     "output_type": "stream",
     "text": [
      "================ Fold-0 ================\n",
      "Unseen Classes : ['Close Drawer 2', 'Clean Table', 'Toggle Switch', 'Open Drawer 3']\n",
      "data shape : (979,), seen_data shape : (790,)\n",
      "{'Open Door 1': 45, 'Open Door 2': 43, 'Close Door 1': 38, 'Close Door 2': 40, 'Open Fridge': 129, 'Close Fridge': 131, 'Open Dishwasher': 54, 'Close Dishwasher': 53, 'Open Drawer 1': 50, 'Close Drawer 1': 49, 'Open Drawer 2': 45, 'Close Drawer 2': 44, 'Open Drawer 3': 56, 'Close Drawer 3': 57, 'Clean Table': 17, 'Drink from Cup': 56, 'Toggle Switch': 72}\n"
     ]
    },
    {
     "name": "stderr",
     "output_type": "stream",
     "text": [
      "train: 100%|██████████| 99/99 [00:08<00:00, 11.72batch/s, loss=94.7, accuracy=0.188]\n",
      "seen: 100%|██████████| 25/25 [00:00<00:00, 62.97batch/s, loss=74.7]\n"
     ]
    },
    {
     "name": "stdout",
     "output_type": "stream",
     "text": [
      "Overall accuracy: 0.125\n",
      "\n"
     ]
    },
    {
     "name": "stderr",
     "output_type": "stream",
     "text": [
      "unseen: 100%|██████████| 20/20 [00:03<00:00,  6.03batch/s, loss=182]\n",
      "Training Epoch:  11%|█         | 1/9 [00:12<01:37, 12.24s/it]"
     ]
    },
    {
     "name": "stdout",
     "output_type": "stream",
     "text": [
      "Overall accuracy: 0.281\n",
      "\n"
     ]
    },
    {
     "name": "stderr",
     "output_type": "stream",
     "text": [
      "train: 100%|██████████| 99/99 [00:02<00:00, 45.83batch/s, loss=18.8, accuracy=0.125]\n",
      "seen: 100%|██████████| 25/25 [00:00<00:00, 54.11batch/s, loss=29.1]\n"
     ]
    },
    {
     "name": "stdout",
     "output_type": "stream",
     "text": [
      "Overall accuracy: 0.161\n",
      "\n"
     ]
    },
    {
     "name": "stderr",
     "output_type": "stream",
     "text": [
      "unseen: 100%|██████████| 20/20 [00:03<00:00,  5.32batch/s, loss=48.5]\n",
      "Training Epoch:  22%|██▏       | 2/9 [00:18<01:01,  8.84s/it]"
     ]
    },
    {
     "name": "stdout",
     "output_type": "stream",
     "text": [
      "Overall accuracy: 0.327\n",
      "\n"
     ]
    },
    {
     "name": "stderr",
     "output_type": "stream",
     "text": [
      "train: 100%|██████████| 99/99 [00:02<00:00, 39.22batch/s, loss=9.67, accuracy=0.219]\n",
      "seen: 100%|██████████| 25/25 [00:00<00:00, 51.13batch/s, loss=9.42]\n"
     ]
    },
    {
     "name": "stdout",
     "output_type": "stream",
     "text": [
      "Overall accuracy: 0.302\n",
      "\n"
     ]
    },
    {
     "name": "stderr",
     "output_type": "stream",
     "text": [
      "unseen: 100%|██████████| 20/20 [00:03<00:00,  5.70batch/s, loss=27]\n",
      "Training Epoch:  33%|███▎      | 3/9 [00:25<00:46,  7.81s/it]"
     ]
    },
    {
     "name": "stdout",
     "output_type": "stream",
     "text": [
      "Overall accuracy: 0.330\n",
      "\n"
     ]
    },
    {
     "name": "stderr",
     "output_type": "stream",
     "text": [
      "train: 100%|██████████| 99/99 [00:02<00:00, 42.95batch/s, loss=4.45, accuracy=0.344]\n",
      "seen: 100%|██████████| 25/25 [00:00<00:00, 54.38batch/s, loss=10.1]\n"
     ]
    },
    {
     "name": "stdout",
     "output_type": "stream",
     "text": [
      "Overall accuracy: 0.350\n",
      "\n"
     ]
    },
    {
     "name": "stderr",
     "output_type": "stream",
     "text": [
      "unseen: 100%|██████████| 20/20 [00:03<00:00,  5.76batch/s, loss=13.7]\n",
      "Training Epoch:  44%|████▍     | 4/9 [00:31<00:36,  7.21s/it]"
     ]
    },
    {
     "name": "stdout",
     "output_type": "stream",
     "text": [
      "Overall accuracy: 0.336\n",
      "\n"
     ]
    },
    {
     "name": "stderr",
     "output_type": "stream",
     "text": [
      "train: 100%|██████████| 99/99 [00:02<00:00, 41.75batch/s, loss=4.04, accuracy=0.312]\n",
      "seen: 100%|██████████| 25/25 [00:00<00:00, 51.44batch/s, loss=4.95]\n"
     ]
    },
    {
     "name": "stdout",
     "output_type": "stream",
     "text": [
      "Overall accuracy: 0.367\n",
      "\n"
     ]
    },
    {
     "name": "stderr",
     "output_type": "stream",
     "text": [
      "unseen: 100%|██████████| 20/20 [00:03<00:00,  5.91batch/s, loss=16.4]\n",
      "Training Epoch:  56%|█████▌    | 5/9 [00:37<00:27,  6.90s/it]"
     ]
    },
    {
     "name": "stdout",
     "output_type": "stream",
     "text": [
      "Overall accuracy: 0.303\n",
      "\n"
     ]
    },
    {
     "name": "stderr",
     "output_type": "stream",
     "text": [
      "train: 100%|██████████| 99/99 [00:02<00:00, 36.22batch/s, loss=1.31, accuracy=0.469]\n",
      "seen: 100%|██████████| 25/25 [00:00<00:00, 44.56batch/s, loss=2.59]\n"
     ]
    },
    {
     "name": "stdout",
     "output_type": "stream",
     "text": [
      "Overall accuracy: 0.385\n",
      "\n"
     ]
    },
    {
     "name": "stderr",
     "output_type": "stream",
     "text": [
      "unseen: 100%|██████████| 20/20 [00:03<00:00,  5.00batch/s, loss=10.3]\n",
      "Training Epoch:  67%|██████▋   | 6/9 [00:45<00:21,  7.05s/it]"
     ]
    },
    {
     "name": "stdout",
     "output_type": "stream",
     "text": [
      "Overall accuracy: 0.300\n",
      "\n"
     ]
    },
    {
     "name": "stderr",
     "output_type": "stream",
     "text": [
      "train: 100%|██████████| 99/99 [00:02<00:00, 37.22batch/s, loss=0.899, accuracy=0.438]\n",
      "seen: 100%|██████████| 25/25 [00:00<00:00, 48.87batch/s, loss=1.97]\n"
     ]
    },
    {
     "name": "stdout",
     "output_type": "stream",
     "text": [
      "Overall accuracy: 0.390\n",
      "\n"
     ]
    },
    {
     "name": "stderr",
     "output_type": "stream",
     "text": [
      "unseen: 100%|██████████| 20/20 [00:03<00:00,  6.01batch/s, loss=3.17]\n",
      "Training Epoch:  78%|███████▊  | 7/9 [00:51<00:13,  6.90s/it]"
     ]
    },
    {
     "name": "stdout",
     "output_type": "stream",
     "text": [
      "Overall accuracy: 0.308\n",
      "\n"
     ]
    },
    {
     "name": "stderr",
     "output_type": "stream",
     "text": [
      "train: 100%|██████████| 99/99 [00:02<00:00, 33.84batch/s, loss=0.841, accuracy=0.375]\n",
      "seen: 100%|██████████| 25/25 [00:00<00:00, 38.28batch/s, loss=3.41]\n"
     ]
    },
    {
     "name": "stdout",
     "output_type": "stream",
     "text": [
      "Overall accuracy: 0.398\n",
      "\n"
     ]
    },
    {
     "name": "stderr",
     "output_type": "stream",
     "text": [
      "unseen: 100%|██████████| 20/20 [00:03<00:00,  5.46batch/s, loss=2.96]\n",
      "Training Epoch:  89%|████████▉ | 8/9 [00:59<00:07,  7.04s/it]"
     ]
    },
    {
     "name": "stdout",
     "output_type": "stream",
     "text": [
      "Overall accuracy: 0.303\n",
      "\n"
     ]
    },
    {
     "name": "stderr",
     "output_type": "stream",
     "text": [
      "train: 100%|██████████| 99/99 [00:02<00:00, 38.81batch/s, loss=0.957, accuracy=0.406]\n",
      "seen: 100%|██████████| 25/25 [00:00<00:00, 44.25batch/s, loss=1.44]\n"
     ]
    },
    {
     "name": "stdout",
     "output_type": "stream",
     "text": [
      "Overall accuracy: 0.391\n",
      "\n"
     ]
    },
    {
     "name": "stderr",
     "output_type": "stream",
     "text": [
      "unseen: 100%|██████████| 20/20 [00:03<00:00,  5.99batch/s, loss=7.23]\n",
      "                                                             \r"
     ]
    },
    {
     "name": "stdout",
     "output_type": "stream",
     "text": [
      "Overall accuracy: 0.312\n",
      "\n"
     ]
    },
    {
     "name": "stderr",
     "output_type": "stream",
     "text": [
      "unseen: 100%|██████████| 20/20 [00:02<00:00,  6.83batch/s, loss=2.12]\n"
     ]
    },
    {
     "data": {
      "image/png": "[encoded data removed]",
      "text/plain": [
       "<Figure size 640x480 with 2 Axes>"
      ]
     },
     "metadata": {},
     "output_type": "display_data"
    },
    {
     "name": "stdout",
     "output_type": "stream",
     "text": [
      "Overall accuracy: 0.311\n",
      "\n",
      "                 precision     recall   f1-score rel. freq. abs. freq.|\t biggest thieves\n",
      "\n",
      "   Clean Table       0.761      0.344      0.474      0.550        352|\t Open Drawer 3: 0.290,\tClose Drawer 2: 0.227,\t\n",
      " Toggle Switch       0.130      0.074      0.095      0.189        121|\t Open Drawer 3: 0.645,\tClose Drawer 2: 0.157,\tClean Table: 0.124,\t\n",
      " Open Drawer 3       0.227      0.556      0.323      0.183        117|\t Close Drawer 2: 0.197,\tClean Table: 0.171,\t\n",
      "Close Drawer 2       0.032      0.080      0.045      0.078         50|\t Open Drawer 3: 0.820,\tClean Table: 0.060,\t\n",
      "\n",
      "----------------------------------------------------------------------------------------------------\n",
      "   avg / total       0.487      0.311      0.341        1.0        640|\t      \n",
      "\n",
      "{'total_accuracy': 0.3109375, 'precision': 0.2876149577339077, 'recall': 0.26342143021120296, 'f1': 0.23408831150708492}\n",
      "========================================\n",
      "================ Fold-1 ================\n",
      "Unseen Classes : ['Open Fridge', 'Open Door 2', 'Close Drawer 1', 'Open Drawer 2']\n",
      "data shape : (979,), seen_data shape : (713,)\n",
      "{'Open Door 1': 45, 'Open Door 2': 43, 'Close Door 1': 38, 'Close Door 2': 40, 'Open Fridge': 129, 'Close Fridge': 131, 'Open Dishwasher': 54, 'Close Dishwasher': 53, 'Open Drawer 1': 50, 'Close Drawer 1': 49, 'Open Drawer 2': 45, 'Close Drawer 2': 44, 'Open Drawer 3': 56, 'Close Drawer 3': 57, 'Clean Table': 17, 'Drink from Cup': 56, 'Toggle Switch': 72}\n"
     ]
    },
    {
     "name": "stderr",
     "output_type": "stream",
     "text": [
      "train: 100%|██████████| 93/93 [00:02<00:00, 36.92batch/s, loss=144, accuracy=0.0625]\n",
      "seen: 100%|██████████| 23/23 [00:00<00:00, 47.51batch/s, loss=92.6]\n"
     ]
    },
    {
     "name": "stdout",
     "output_type": "stream",
     "text": [
      "Overall accuracy: 0.088\n",
      "\n"
     ]
    },
    {
     "name": "stderr",
     "output_type": "stream",
     "text": [
      "unseen: 100%|██████████| 27/27 [00:04<00:00,  6.22batch/s, loss=170]\n",
      "Training Epoch:  11%|█         | 1/9 [00:07<00:59,  7.39s/it]"
     ]
    },
    {
     "name": "stdout",
     "output_type": "stream",
     "text": [
      "Overall accuracy: 0.411\n",
      "\n"
     ]
    },
    {
     "name": "stderr",
     "output_type": "stream",
     "text": [
      "train: 100%|██████████| 93/93 [00:01<00:00, 67.39batch/s, loss=38.2, accuracy=0.0625]\n",
      "seen: 100%|██████████| 23/23 [00:00<00:00, 72.33batch/s, loss=37.6]\n"
     ]
    },
    {
     "name": "stdout",
     "output_type": "stream",
     "text": [
      "Overall accuracy: 0.090\n",
      "\n"
     ]
    },
    {
     "name": "stderr",
     "output_type": "stream",
     "text": [
      "unseen: 100%|██████████| 27/27 [00:04<00:00,  6.47batch/s, loss=34.7]\n",
      "Training Epoch:  22%|██▏       | 2/9 [00:13<00:45,  6.52s/it]"
     ]
    },
    {
     "name": "stdout",
     "output_type": "stream",
     "text": [
      "Overall accuracy: 0.391\n",
      "\n"
     ]
    },
    {
     "name": "stderr",
     "output_type": "stream",
     "text": [
      "train: 100%|██████████| 93/93 [00:01<00:00, 64.06batch/s, loss=6.77, accuracy=0.0938]\n",
      "seen: 100%|██████████| 23/23 [00:00<00:00, 89.84batch/s, loss=10.7]\n"
     ]
    },
    {
     "name": "stdout",
     "output_type": "stream",
     "text": [
      "Overall accuracy: 0.114\n",
      "\n"
     ]
    },
    {
     "name": "stderr",
     "output_type": "stream",
     "text": [
      "unseen: 100%|██████████| 27/27 [00:04<00:00,  6.47batch/s, loss=14.3]\n",
      "Training Epoch:  33%|███▎      | 3/9 [00:19<00:37,  6.26s/it]"
     ]
    },
    {
     "name": "stdout",
     "output_type": "stream",
     "text": [
      "Overall accuracy: 0.354\n",
      "\n"
     ]
    },
    {
     "name": "stderr",
     "output_type": "stream",
     "text": [
      "train: 100%|██████████| 93/93 [00:01<00:00, 65.70batch/s, loss=10, accuracy=0.125]\n",
      "seen: 100%|██████████| 23/23 [00:00<00:00, 86.79batch/s, loss=9.63]\n"
     ]
    },
    {
     "name": "stdout",
     "output_type": "stream",
     "text": [
      "Overall accuracy: 0.144\n",
      "\n"
     ]
    },
    {
     "name": "stderr",
     "output_type": "stream",
     "text": [
      "unseen: 100%|██████████| 27/27 [00:04<00:00,  6.52batch/s, loss=4.52]\n",
      "Training Epoch:  44%|████▍     | 4/9 [00:25<00:30,  6.12s/it]"
     ]
    },
    {
     "name": "stdout",
     "output_type": "stream",
     "text": [
      "Overall accuracy: 0.344\n",
      "\n"
     ]
    },
    {
     "name": "stderr",
     "output_type": "stream",
     "text": [
      "train: 100%|██████████| 93/93 [00:01<00:00, 61.02batch/s, loss=4.43, accuracy=0.281]\n",
      "seen: 100%|██████████| 23/23 [00:00<00:00, 78.50batch/s, loss=2.59]\n"
     ]
    },
    {
     "name": "stdout",
     "output_type": "stream",
     "text": [
      "Overall accuracy: 0.314\n",
      "\n"
     ]
    },
    {
     "name": "stderr",
     "output_type": "stream",
     "text": [
      "unseen: 100%|██████████| 27/27 [00:04<00:00,  6.13batch/s, loss=2.06]\n",
      "Training Epoch:  56%|█████▌    | 5/9 [00:31<00:24,  6.17s/it]"
     ]
    },
    {
     "name": "stdout",
     "output_type": "stream",
     "text": [
      "Overall accuracy: 0.347\n",
      "\n"
     ]
    },
    {
     "name": "stderr",
     "output_type": "stream",
     "text": [
      "train: 100%|██████████| 93/93 [00:01<00:00, 64.73batch/s, loss=2.2, accuracy=0.312]\n",
      "seen: 100%|██████████| 23/23 [00:00<00:00, 77.97batch/s, loss=2.64]\n"
     ]
    },
    {
     "name": "stdout",
     "output_type": "stream",
     "text": [
      "Overall accuracy: 0.357\n",
      "\n"
     ]
    },
    {
     "name": "stderr",
     "output_type": "stream",
     "text": [
      "unseen: 100%|██████████| 27/27 [00:04<00:00,  6.24batch/s, loss=2.91]\n",
      "Training Epoch:  67%|██████▋   | 6/9 [00:37<00:18,  6.15s/it]"
     ]
    },
    {
     "name": "stdout",
     "output_type": "stream",
     "text": [
      "Overall accuracy: 0.343\n",
      "\n"
     ]
    },
    {
     "name": "stderr",
     "output_type": "stream",
     "text": [
      "train: 100%|██████████| 93/93 [00:01<00:00, 63.63batch/s, loss=1.67, accuracy=0.375]\n",
      "seen: 100%|██████████| 23/23 [00:00<00:00, 77.97batch/s, loss=3.39]\n"
     ]
    },
    {
     "name": "stdout",
     "output_type": "stream",
     "text": [
      "Overall accuracy: 0.383\n",
      "\n"
     ]
    },
    {
     "name": "stderr",
     "output_type": "stream",
     "text": [
      "unseen: 100%|██████████| 27/27 [00:04<00:00,  6.02batch/s, loss=1.69]\n",
      "Training Epoch:  78%|███████▊  | 7/9 [00:43<00:12,  6.19s/it]"
     ]
    },
    {
     "name": "stdout",
     "output_type": "stream",
     "text": [
      "Overall accuracy: 0.365\n",
      "\n"
     ]
    },
    {
     "name": "stderr",
     "output_type": "stream",
     "text": [
      "train: 100%|██████████| 93/93 [00:01<00:00, 64.18batch/s, loss=1.23, accuracy=0.375]\n",
      "seen: 100%|██████████| 23/23 [00:00<00:00, 77.86batch/s, loss=3.88]\n"
     ]
    },
    {
     "name": "stdout",
     "output_type": "stream",
     "text": [
      "Overall accuracy: 0.389\n",
      "\n"
     ]
    },
    {
     "name": "stderr",
     "output_type": "stream",
     "text": [
      "unseen: 100%|██████████| 27/27 [00:04<00:00,  6.08batch/s, loss=3.37]\n",
      "Training Epoch:  89%|████████▉ | 8/9 [00:50<00:06,  6.20s/it]"
     ]
    },
    {
     "name": "stdout",
     "output_type": "stream",
     "text": [
      "Overall accuracy: 0.345\n",
      "\n"
     ]
    },
    {
     "name": "stderr",
     "output_type": "stream",
     "text": [
      "train: 100%|██████████| 93/93 [00:01<00:00, 61.28batch/s, loss=0.967, accuracy=0.406]\n",
      "seen: 100%|██████████| 23/23 [00:00<00:00, 76.16batch/s, loss=1.81]\n"
     ]
    },
    {
     "name": "stdout",
     "output_type": "stream",
     "text": [
      "Overall accuracy: 0.387\n",
      "\n"
     ]
    },
    {
     "name": "stderr",
     "output_type": "stream",
     "text": [
      "unseen: 100%|██████████| 27/27 [00:04<00:00,  6.06batch/s, loss=0.953]\n",
      "                                                             \r"
     ]
    },
    {
     "name": "stdout",
     "output_type": "stream",
     "text": [
      "Overall accuracy: 0.356\n",
      "\n"
     ]
    },
    {
     "name": "stderr",
     "output_type": "stream",
     "text": [
      "unseen: 100%|██████████| 27/27 [00:04<00:00,  6.35batch/s, loss=1.1] \n"
     ]
    },
    {
     "data": {
      "image/png": "[encoded data removed]",
      "text/plain": [
       "<Figure size 640x480 with 2 Axes>"
      ]
     },
     "metadata": {},
     "output_type": "display_data"
    },
    {
     "name": "stdout",
     "output_type": "stream",
     "text": [
      "Overall accuracy: 0.368\n",
      "\n",
      "                 precision     recall   f1-score rel. freq. abs. freq.|\t biggest thieves\n",
      "\n",
      "   Open Fridge       0.444      0.647      0.527      0.495        428|\t Open Door 2: 0.196,\tClose Drawer 1: 0.126,\t\n",
      "   Open Door 2       0.267      0.117      0.163      0.355        307|\t Open Fridge: 0.801,\tClose Drawer 1: 0.059,\t\n",
      " Open Drawer 2       0.048      0.014      0.022      0.081         70|\t Open Fridge: 0.729,\tOpen Door 2: 0.143,\tClose Drawer 1: 0.114,\t\n",
      "Close Drawer 1       0.048      0.068      0.056      0.068         59|\t Open Fridge: 0.847,\tOpen Door 2: 0.085,\t\n",
      "\n",
      "----------------------------------------------------------------------------------------------------\n",
      "   avg / total       0.322      0.368      0.324 0.9999999999999999        864|\t      \n",
      "\n",
      "{'total_accuracy': 0.3680555555555556, 'precision': 0.20145375457875458, 'recall': 0.2116356074464143, 'f1': 0.1918584937764092}\n",
      "========================================\n",
      "================ Fold-2 ================\n",
      "Unseen Classes : ['Drink from Cup', 'Open Drawer 1', 'Close Dishwasher']\n",
      "data shape : (979,), seen_data shape : (820,)\n",
      "{'Open Door 1': 45, 'Open Door 2': 43, 'Close Door 1': 38, 'Close Door 2': 40, 'Open Fridge': 129, 'Close Fridge': 131, 'Open Dishwasher': 54, 'Close Dishwasher': 53, 'Open Drawer 1': 50, 'Close Drawer 1': 49, 'Open Drawer 2': 45, 'Close Drawer 2': 44, 'Open Drawer 3': 56, 'Close Drawer 3': 57, 'Clean Table': 17, 'Drink from Cup': 56, 'Toggle Switch': 72}\n"
     ]
    },
    {
     "name": "stderr",
     "output_type": "stream",
     "text": [
      "train: 100%|██████████| 73/73 [00:01<00:00, 61.43batch/s, loss=122, accuracy=0.0312]\n",
      "seen: 100%|██████████| 18/18 [00:00<00:00, 87.80batch/s, loss=153]\n"
     ]
    },
    {
     "name": "stdout",
     "output_type": "stream",
     "text": [
      "Overall accuracy: 0.095\n",
      "\n"
     ]
    },
    {
     "name": "stderr",
     "output_type": "stream",
     "text": [
      "unseen: 100%|██████████| 53/53 [00:06<00:00,  7.94batch/s, loss=228]\n",
      "Training Epoch:  11%|█         | 1/9 [00:08<01:04,  8.11s/it]"
     ]
    },
    {
     "name": "stdout",
     "output_type": "stream",
     "text": [
      "Overall accuracy: 0.741\n",
      "\n"
     ]
    },
    {
     "name": "stderr",
     "output_type": "stream",
     "text": [
      "train: 100%|██████████| 73/73 [00:01<00:00, 61.59batch/s, loss=44.5, accuracy=0.0938]\n",
      "seen: 100%|██████████| 18/18 [00:00<00:00, 74.38batch/s, loss=69]\n"
     ]
    },
    {
     "name": "stdout",
     "output_type": "stream",
     "text": [
      "Overall accuracy: 0.123\n",
      "\n"
     ]
    },
    {
     "name": "stderr",
     "output_type": "stream",
     "text": [
      "unseen: 100%|██████████| 53/53 [00:06<00:00,  8.13batch/s, loss=161]\n",
      "Training Epoch:  22%|██▏       | 2/9 [00:16<00:56,  8.04s/it]"
     ]
    },
    {
     "name": "stdout",
     "output_type": "stream",
     "text": [
      "Overall accuracy: 0.702\n",
      "\n"
     ]
    },
    {
     "name": "stderr",
     "output_type": "stream",
     "text": [
      "train: 100%|██████████| 73/73 [00:01<00:00, 61.39batch/s, loss=21.2, accuracy=0]\n",
      "seen: 100%|██████████| 18/18 [00:00<00:00, 95.74batch/s, loss=14.6]\n"
     ]
    },
    {
     "name": "stdout",
     "output_type": "stream",
     "text": [
      "Overall accuracy: 0.132\n",
      "\n"
     ]
    },
    {
     "name": "stderr",
     "output_type": "stream",
     "text": [
      "unseen: 100%|██████████| 53/53 [00:06<00:00,  7.93batch/s, loss=95.8]\n",
      "Training Epoch:  33%|███▎      | 3/9 [00:24<00:48,  8.06s/it]"
     ]
    },
    {
     "name": "stdout",
     "output_type": "stream",
     "text": [
      "Overall accuracy: 0.709\n",
      "\n"
     ]
    },
    {
     "name": "stderr",
     "output_type": "stream",
     "text": [
      "train: 100%|██████████| 73/73 [00:01<00:00, 61.97batch/s, loss=9.59, accuracy=0.0625]\n",
      "seen: 100%|██████████| 18/18 [00:00<00:00, 96.25batch/s, loss=17.8] \n"
     ]
    },
    {
     "name": "stdout",
     "output_type": "stream",
     "text": [
      "Overall accuracy: 0.146\n",
      "\n"
     ]
    },
    {
     "name": "stderr",
     "output_type": "stream",
     "text": [
      "unseen: 100%|██████████| 53/53 [00:06<00:00,  8.04batch/s, loss=62.1]\n",
      "Training Epoch:  44%|████▍     | 4/9 [00:32<00:40,  8.04s/it]"
     ]
    },
    {
     "name": "stdout",
     "output_type": "stream",
     "text": [
      "Overall accuracy: 0.711\n",
      "\n"
     ]
    },
    {
     "name": "stderr",
     "output_type": "stream",
     "text": [
      "train: 100%|██████████| 73/73 [00:01<00:00, 63.20batch/s, loss=5.83, accuracy=0.219]\n",
      "seen: 100%|██████████| 18/18 [00:00<00:00, 77.59batch/s, loss=5.14]\n"
     ]
    },
    {
     "name": "stdout",
     "output_type": "stream",
     "text": [
      "Overall accuracy: 0.148\n",
      "\n"
     ]
    },
    {
     "name": "stderr",
     "output_type": "stream",
     "text": [
      "unseen: 100%|██████████| 53/53 [00:06<00:00,  8.27batch/s, loss=35.3]\n",
      "Training Epoch:  56%|█████▌    | 5/9 [00:40<00:31,  7.96s/it]"
     ]
    },
    {
     "name": "stdout",
     "output_type": "stream",
     "text": [
      "Overall accuracy: 0.726\n",
      "\n"
     ]
    },
    {
     "name": "stderr",
     "output_type": "stream",
     "text": [
      "train: 100%|██████████| 73/73 [00:01<00:00, 55.64batch/s, loss=4.07, accuracy=0]\n",
      "seen: 100%|██████████| 18/18 [00:00<00:00, 64.98batch/s, loss=4.82]\n"
     ]
    },
    {
     "name": "stdout",
     "output_type": "stream",
     "text": [
      "Overall accuracy: 0.137\n",
      "\n"
     ]
    },
    {
     "name": "stderr",
     "output_type": "stream",
     "text": [
      "unseen: 100%|██████████| 53/53 [00:06<00:00,  8.03batch/s, loss=46.6]\n",
      "Training Epoch:  67%|██████▋   | 6/9 [00:48<00:24,  8.06s/it]"
     ]
    },
    {
     "name": "stdout",
     "output_type": "stream",
     "text": [
      "Overall accuracy: 0.712\n",
      "\n"
     ]
    },
    {
     "name": "stderr",
     "output_type": "stream",
     "text": [
      "train: 100%|██████████| 73/73 [00:01<00:00, 63.67batch/s, loss=4.29, accuracy=0.25]\n",
      "seen: 100%|██████████| 18/18 [00:00<00:00, 94.24batch/s, loss=3]\n"
     ]
    },
    {
     "name": "stdout",
     "output_type": "stream",
     "text": [
      "Overall accuracy: 0.155\n",
      "\n"
     ]
    },
    {
     "name": "stderr",
     "output_type": "stream",
     "text": [
      "unseen: 100%|██████████| 53/53 [00:06<00:00,  8.27batch/s, loss=34.2]\n",
      "Training Epoch:  78%|███████▊  | 7/9 [00:56<00:15,  7.97s/it]"
     ]
    },
    {
     "name": "stdout",
     "output_type": "stream",
     "text": [
      "Overall accuracy: 0.742\n",
      "\n"
     ]
    },
    {
     "name": "stderr",
     "output_type": "stream",
     "text": [
      "train: 100%|██████████| 73/73 [00:01<00:00, 62.07batch/s, loss=1.71, accuracy=0.188]\n",
      "seen: 100%|██████████| 18/18 [00:00<00:00, 89.11batch/s, loss=5.96]\n"
     ]
    },
    {
     "name": "stdout",
     "output_type": "stream",
     "text": [
      "Overall accuracy: 0.151\n",
      "\n"
     ]
    },
    {
     "name": "stderr",
     "output_type": "stream",
     "text": [
      "unseen: 100%|██████████| 53/53 [00:06<00:00,  8.24batch/s, loss=18.7]\n",
      "Training Epoch:  89%|████████▉ | 8/9 [01:03<00:07,  7.93s/it]"
     ]
    },
    {
     "name": "stdout",
     "output_type": "stream",
     "text": [
      "Overall accuracy: 0.743\n",
      "\n"
     ]
    },
    {
     "name": "stderr",
     "output_type": "stream",
     "text": [
      "train: 100%|██████████| 73/73 [00:01<00:00, 60.84batch/s, loss=1.71, accuracy=0.25]\n",
      "seen: 100%|██████████| 18/18 [00:00<00:00, 89.11batch/s, loss=1.88]\n"
     ]
    },
    {
     "name": "stdout",
     "output_type": "stream",
     "text": [
      "Overall accuracy: 0.153\n",
      "\n"
     ]
    },
    {
     "name": "stderr",
     "output_type": "stream",
     "text": [
      "unseen: 100%|██████████| 53/53 [00:06<00:00,  8.15batch/s, loss=33.5]\n",
      "                                                             \r"
     ]
    },
    {
     "name": "stdout",
     "output_type": "stream",
     "text": [
      "Overall accuracy: 0.744\n",
      "\n"
     ]
    },
    {
     "name": "stderr",
     "output_type": "stream",
     "text": [
      "unseen: 100%|██████████| 53/53 [00:06<00:00,  8.51batch/s, loss=54]  \n"
     ]
    },
    {
     "data": {
      "image/png": "[encoded data removed]",
      "text/plain": [
       "<Figure size 640x480 with 2 Axes>"
      ]
     },
     "metadata": {},
     "output_type": "display_data"
    },
    {
     "name": "stdout",
     "output_type": "stream",
     "text": [
      "Overall accuracy: 0.744\n",
      "\n",
      "                   precision     recall   f1-score rel. freq. abs. freq.|\t biggest thieves\n",
      "\n",
      "  Drink from Cup       0.884      0.835      0.859      0.867       1471|\t Open Drawer 1: 0.117,\tClose Dishwasher: 0.048,\t\n",
      "Close Dishwasher       0.235      0.164      0.194      0.086        146|\t Drink from Cup: 0.685,\tOpen Drawer 1: 0.151,\t\n",
      "   Open Drawer 1       0.044      0.114      0.064      0.047         79|\t Drink from Cup: 0.785,\tClose Dishwasher: 0.101,\t\n",
      "\n",
      "----------------------------------------------------------------------------------------------------\n",
      "     avg / total       0.789      0.744      0.765        1.0       1696|\t      \n",
      "\n",
      "{'total_accuracy': 0.7441037735849056, 'precision': 0.3877220389134855, 'recall': 0.37126455872628483, 'f1': 0.37207271545944526}\n",
      "========================================\n",
      "================ Fold-3 ================\n",
      "Unseen Classes : ['Close Drawer 3', 'Close Door 2', 'Open Door 1']\n",
      "data shape : (979,), seen_data shape : (837,)\n",
      "{'Open Door 1': 45, 'Open Door 2': 43, 'Close Door 1': 38, 'Close Door 2': 40, 'Open Fridge': 129, 'Close Fridge': 131, 'Open Dishwasher': 54, 'Close Dishwasher': 53, 'Open Drawer 1': 50, 'Close Drawer 1': 49, 'Open Drawer 2': 45, 'Close Drawer 2': 44, 'Open Drawer 3': 56, 'Close Drawer 3': 57, 'Clean Table': 17, 'Drink from Cup': 56, 'Toggle Switch': 72}\n"
     ]
    },
    {
     "name": "stderr",
     "output_type": "stream",
     "text": [
      "train: 100%|██████████| 99/99 [00:01<00:00, 59.07batch/s, loss=53.1, accuracy=0.0625]\n",
      "seen: 100%|██████████| 25/25 [00:00<00:00, 86.51batch/s, loss=55.6]\n"
     ]
    },
    {
     "name": "stdout",
     "output_type": "stream",
     "text": [
      "Overall accuracy: 0.117\n",
      "\n"
     ]
    },
    {
     "name": "stderr",
     "output_type": "stream",
     "text": [
      "unseen: 100%|██████████| 20/20 [00:02<00:00,  8.22batch/s, loss=89.9]\n",
      "Training Epoch:  11%|█         | 1/9 [00:04<00:35,  4.43s/it]"
     ]
    },
    {
     "name": "stdout",
     "output_type": "stream",
     "text": [
      "Overall accuracy: 0.298\n",
      "\n"
     ]
    },
    {
     "name": "stderr",
     "output_type": "stream",
     "text": [
      "train: 100%|██████████| 99/99 [00:01<00:00, 61.15batch/s, loss=3.24, accuracy=0.312]\n",
      "seen: 100%|██████████| 25/25 [00:00<00:00, 73.31batch/s, loss=7.16]\n"
     ]
    },
    {
     "name": "stdout",
     "output_type": "stream",
     "text": [
      "Overall accuracy: 0.233\n",
      "\n"
     ]
    },
    {
     "name": "stderr",
     "output_type": "stream",
     "text": [
      "unseen: 100%|██████████| 20/20 [00:02<00:00,  8.04batch/s, loss=22.2]\n",
      "Training Epoch:  22%|██▏       | 2/9 [00:08<00:31,  4.46s/it]"
     ]
    },
    {
     "name": "stdout",
     "output_type": "stream",
     "text": [
      "Overall accuracy: 0.241\n",
      "\n"
     ]
    },
    {
     "name": "stderr",
     "output_type": "stream",
     "text": [
      "train: 100%|██████████| 99/99 [00:01<00:00, 61.11batch/s, loss=1.65, accuracy=0.375]\n",
      "seen: 100%|██████████| 25/25 [00:00<00:00, 88.65batch/s, loss=2.99]\n"
     ]
    },
    {
     "name": "stdout",
     "output_type": "stream",
     "text": [
      "Overall accuracy: 0.307\n",
      "\n"
     ]
    },
    {
     "name": "stderr",
     "output_type": "stream",
     "text": [
      "unseen: 100%|██████████| 20/20 [00:02<00:00,  8.04batch/s, loss=5.01]\n",
      "Training Epoch:  33%|███▎      | 3/9 [00:13<00:26,  4.45s/it]"
     ]
    },
    {
     "name": "stdout",
     "output_type": "stream",
     "text": [
      "Overall accuracy: 0.269\n",
      "\n"
     ]
    },
    {
     "name": "stderr",
     "output_type": "stream",
     "text": [
      "train: 100%|██████████| 99/99 [00:01<00:00, 63.38batch/s, loss=1.13, accuracy=0.25]\n",
      "seen: 100%|██████████| 25/25 [00:00<00:00, 87.11batch/s, loss=1.6]\n"
     ]
    },
    {
     "name": "stdout",
     "output_type": "stream",
     "text": [
      "Overall accuracy: 0.328\n",
      "\n"
     ]
    },
    {
     "name": "stderr",
     "output_type": "stream",
     "text": [
      "unseen: 100%|██████████| 20/20 [00:02<00:00,  8.02batch/s, loss=3.73]\n",
      "Training Epoch:  44%|████▍     | 4/9 [00:17<00:22,  4.43s/it]"
     ]
    },
    {
     "name": "stdout",
     "output_type": "stream",
     "text": [
      "Overall accuracy: 0.308\n",
      "\n"
     ]
    },
    {
     "name": "stderr",
     "output_type": "stream",
     "text": [
      "train: 100%|██████████| 99/99 [00:01<00:00, 61.19batch/s, loss=1.37, accuracy=0.438]\n",
      "seen: 100%|██████████| 25/25 [00:00<00:00, 77.88batch/s, loss=1.05]\n"
     ]
    },
    {
     "name": "stdout",
     "output_type": "stream",
     "text": [
      "Overall accuracy: 0.335\n",
      "\n"
     ]
    },
    {
     "name": "stderr",
     "output_type": "stream",
     "text": [
      "unseen: 100%|██████████| 20/20 [00:02<00:00,  8.10batch/s, loss=4.4]\n",
      "Training Epoch:  56%|█████▌    | 5/9 [00:22<00:17,  4.44s/it]"
     ]
    },
    {
     "name": "stdout",
     "output_type": "stream",
     "text": [
      "Overall accuracy: 0.320\n",
      "\n"
     ]
    },
    {
     "name": "stderr",
     "output_type": "stream",
     "text": [
      "train: 100%|██████████| 99/99 [00:01<00:00, 60.83batch/s, loss=0.986, accuracy=0.281]\n",
      "seen: 100%|██████████| 25/25 [00:00<00:00, 93.28batch/s, loss=1.29]\n"
     ]
    },
    {
     "name": "stdout",
     "output_type": "stream",
     "text": [
      "Overall accuracy: 0.355\n",
      "\n"
     ]
    },
    {
     "name": "stderr",
     "output_type": "stream",
     "text": [
      "unseen: 100%|██████████| 20/20 [00:02<00:00,  7.84batch/s, loss=1.4]\n",
      "Training Epoch:  67%|██████▋   | 6/9 [00:26<00:13,  4.46s/it]"
     ]
    },
    {
     "name": "stdout",
     "output_type": "stream",
     "text": [
      "Overall accuracy: 0.320\n",
      "\n"
     ]
    },
    {
     "name": "stderr",
     "output_type": "stream",
     "text": [
      "train: 100%|██████████| 99/99 [00:01<00:00, 62.34batch/s, loss=0.864, accuracy=0.438]\n",
      "seen: 100%|██████████| 25/25 [00:00<00:00, 77.40batch/s, loss=0.986]\n"
     ]
    },
    {
     "name": "stdout",
     "output_type": "stream",
     "text": [
      "Overall accuracy: 0.362\n",
      "\n"
     ]
    },
    {
     "name": "stderr",
     "output_type": "stream",
     "text": [
      "unseen: 100%|██████████| 20/20 [00:02<00:00,  8.37batch/s, loss=2.16]\n",
      "Training Epoch:  78%|███████▊  | 7/9 [00:31<00:08,  4.42s/it]"
     ]
    },
    {
     "name": "stdout",
     "output_type": "stream",
     "text": [
      "Overall accuracy: 0.317\n",
      "\n"
     ]
    },
    {
     "name": "stderr",
     "output_type": "stream",
     "text": [
      "train: 100%|██████████| 99/99 [00:01<00:00, 57.57batch/s, loss=0.833, accuracy=0.375]\n",
      "seen: 100%|██████████| 25/25 [00:00<00:00, 87.41batch/s, loss=1.12]\n"
     ]
    },
    {
     "name": "stdout",
     "output_type": "stream",
     "text": [
      "Overall accuracy: 0.370\n",
      "\n"
     ]
    },
    {
     "name": "stderr",
     "output_type": "stream",
     "text": [
      "unseen: 100%|██████████| 20/20 [00:02<00:00,  7.63batch/s, loss=3.71]\n",
      "Training Epoch:  89%|████████▉ | 8/9 [00:35<00:04,  4.51s/it]"
     ]
    },
    {
     "name": "stdout",
     "output_type": "stream",
     "text": [
      "Overall accuracy: 0.308\n",
      "\n"
     ]
    },
    {
     "name": "stderr",
     "output_type": "stream",
     "text": [
      "train: 100%|██████████| 99/99 [00:01<00:00, 62.03batch/s, loss=0.913, accuracy=0.188]\n",
      "seen: 100%|██████████| 25/25 [00:00<00:00, 73.31batch/s, loss=1.94]\n"
     ]
    },
    {
     "name": "stdout",
     "output_type": "stream",
     "text": [
      "Overall accuracy: 0.371\n",
      "\n"
     ]
    },
    {
     "name": "stderr",
     "output_type": "stream",
     "text": [
      "unseen: 100%|██████████| 20/20 [00:02<00:00,  7.82batch/s, loss=22.1]\n",
      "                                                             \r"
     ]
    },
    {
     "name": "stdout",
     "output_type": "stream",
     "text": [
      "Overall accuracy: 0.327\n",
      "\n"
     ]
    },
    {
     "name": "stderr",
     "output_type": "stream",
     "text": [
      "unseen: 100%|██████████| 20/20 [00:02<00:00,  8.42batch/s, loss=3.25] \n"
     ]
    },
    {
     "data": {
      "image/png": "[encoded data removed]",
      "text/plain": [
       "<Figure size 640x480 with 2 Axes>"
      ]
     },
     "metadata": {},
     "output_type": "display_data"
    },
    {
     "name": "stdout",
     "output_type": "stream",
     "text": [
      "Overall accuracy: 0.319\n",
      "\n",
      "                 precision     recall   f1-score rel. freq. abs. freq.|\t biggest thieves\n",
      "\n",
      "   Open Door 1       0.384      0.626      0.476      0.464        297|\t Close Drawer 3: 0.236,\tClose Door 2: 0.138,\t\n",
      "  Close Door 2       0.164      0.038      0.061      0.373        239|\t Open Door 1: 0.874,\tClose Drawer 3: 0.088,\t\n",
      "Close Drawer 3       0.090      0.087      0.088      0.163        104|\t Open Door 1: 0.865,\tClose Door 2: 0.048,\t\n",
      "\n",
      "----------------------------------------------------------------------------------------------------\n",
      "   avg / total       0.254      0.319      0.258        1.0        640|\t      \n",
      "\n",
      "{'total_accuracy': 0.31875, 'precision': 0.2123805060918463, 'recall': 0.2501526638555927, 'f1': 0.20838770290724987}\n",
      "========================================\n",
      "================ Fold-4 ================\n",
      "Unseen Classes : ['Close Fridge', 'Open Dishwasher', 'Close Door 1']\n",
      "data shape : (979,), seen_data shape : (756,)\n",
      "{'Open Door 1': 45, 'Open Door 2': 43, 'Close Door 1': 38, 'Close Door 2': 40, 'Open Fridge': 129, 'Close Fridge': 131, 'Open Dishwasher': 54, 'Close Dishwasher': 53, 'Open Drawer 1': 50, 'Close Drawer 1': 49, 'Open Drawer 2': 45, 'Close Drawer 2': 44, 'Open Drawer 3': 56, 'Close Drawer 3': 57, 'Clean Table': 17, 'Drink from Cup': 56, 'Toggle Switch': 72}\n"
     ]
    },
    {
     "name": "stderr",
     "output_type": "stream",
     "text": [
      "train: 100%|██████████| 97/97 [00:03<00:00, 28.57batch/s, loss=76.8, accuracy=0.0625]\n",
      "seen: 100%|██████████| 24/24 [00:00<00:00, 37.02batch/s, loss=72.4]\n"
     ]
    },
    {
     "name": "stdout",
     "output_type": "stream",
     "text": [
      "Overall accuracy: 0.098\n",
      "\n"
     ]
    },
    {
     "name": "stderr",
     "output_type": "stream",
     "text": [
      "unseen: 100%|██████████| 23/23 [00:02<00:00,  8.05batch/s, loss=121]\n",
      "Training Epoch:  11%|█         | 1/9 [00:06<00:55,  6.97s/it]"
     ]
    },
    {
     "name": "stdout",
     "output_type": "stream",
     "text": [
      "Overall accuracy: 0.375\n",
      "\n"
     ]
    },
    {
     "name": "stderr",
     "output_type": "stream",
     "text": [
      "train: 100%|██████████| 97/97 [00:01<00:00, 57.63batch/s, loss=26.8, accuracy=0.219]\n",
      "seen: 100%|██████████| 24/24 [00:00<00:00, 91.60batch/s, loss=19]\n"
     ]
    },
    {
     "name": "stdout",
     "output_type": "stream",
     "text": [
      "Overall accuracy: 0.168\n",
      "\n"
     ]
    },
    {
     "name": "stderr",
     "output_type": "stream",
     "text": [
      "unseen: 100%|██████████| 23/23 [00:02<00:00,  7.72batch/s, loss=33.8]\n",
      "Training Epoch:  22%|██▏       | 2/9 [00:11<00:40,  5.79s/it]"
     ]
    },
    {
     "name": "stdout",
     "output_type": "stream",
     "text": [
      "Overall accuracy: 0.382\n",
      "\n"
     ]
    },
    {
     "name": "stderr",
     "output_type": "stream",
     "text": [
      "train: 100%|██████████| 97/97 [00:03<00:00, 30.97batch/s, loss=5.75, accuracy=0.312]\n",
      "seen: 100%|██████████| 24/24 [00:00<00:00, 29.47batch/s, loss=9.18]\n"
     ]
    },
    {
     "name": "stdout",
     "output_type": "stream",
     "text": [
      "Overall accuracy: 0.257\n",
      "\n"
     ]
    },
    {
     "name": "stderr",
     "output_type": "stream",
     "text": [
      "unseen: 100%|██████████| 23/23 [00:03<00:00,  6.18batch/s, loss=15.4]\n",
      "Training Epoch:  33%|███▎      | 3/9 [00:19<00:40,  6.69s/it]"
     ]
    },
    {
     "name": "stdout",
     "output_type": "stream",
     "text": [
      "Overall accuracy: 0.389\n",
      "\n"
     ]
    },
    {
     "name": "stderr",
     "output_type": "stream",
     "text": [
      "train: 100%|██████████| 97/97 [00:01<00:00, 60.10batch/s, loss=3.48, accuracy=0.438]\n",
      "seen: 100%|██████████| 24/24 [00:00<00:00, 89.22batch/s, loss=2.25]\n"
     ]
    },
    {
     "name": "stdout",
     "output_type": "stream",
     "text": [
      "Overall accuracy: 0.326\n",
      "\n"
     ]
    },
    {
     "name": "stderr",
     "output_type": "stream",
     "text": [
      "unseen: 100%|██████████| 23/23 [00:02<00:00,  7.73batch/s, loss=10.2]\n",
      "Training Epoch:  44%|████▍     | 4/9 [00:24<00:29,  5.98s/it]"
     ]
    },
    {
     "name": "stdout",
     "output_type": "stream",
     "text": [
      "Overall accuracy: 0.389\n",
      "\n"
     ]
    },
    {
     "name": "stderr",
     "output_type": "stream",
     "text": [
      "train: 100%|██████████| 97/97 [00:01<00:00, 60.27batch/s, loss=3.94, accuracy=0.281]\n",
      "seen: 100%|██████████| 24/24 [00:00<00:00, 92.66batch/s, loss=3.63]\n"
     ]
    },
    {
     "name": "stdout",
     "output_type": "stream",
     "text": [
      "Overall accuracy: 0.372\n",
      "\n"
     ]
    },
    {
     "name": "stderr",
     "output_type": "stream",
     "text": [
      "unseen: 100%|██████████| 23/23 [00:02<00:00,  7.84batch/s, loss=3.85]\n",
      "Training Epoch:  56%|█████▌    | 5/9 [00:29<00:22,  5.57s/it]"
     ]
    },
    {
     "name": "stdout",
     "output_type": "stream",
     "text": [
      "Overall accuracy: 0.405\n",
      "\n"
     ]
    },
    {
     "name": "stderr",
     "output_type": "stream",
     "text": [
      "train: 100%|██████████| 97/97 [00:01<00:00, 56.89batch/s, loss=1.66, accuracy=0.344]\n",
      "seen: 100%|██████████| 24/24 [00:00<00:00, 71.85batch/s, loss=3.02]\n"
     ]
    },
    {
     "name": "stdout",
     "output_type": "stream",
     "text": [
      "Overall accuracy: 0.384\n",
      "\n"
     ]
    },
    {
     "name": "stderr",
     "output_type": "stream",
     "text": [
      "unseen: 100%|██████████| 23/23 [00:04<00:00,  5.57batch/s, loss=4.71]\n",
      "Training Epoch:  67%|██████▋   | 6/9 [00:35<00:17,  5.79s/it]"
     ]
    },
    {
     "name": "stdout",
     "output_type": "stream",
     "text": [
      "Overall accuracy: 0.385\n",
      "\n"
     ]
    },
    {
     "name": "stderr",
     "output_type": "stream",
     "text": [
      "train: 100%|██████████| 97/97 [00:02<00:00, 45.82batch/s, loss=1.36, accuracy=0.344]\n",
      "seen: 100%|██████████| 24/24 [00:00<00:00, 71.71batch/s, loss=4.47]\n"
     ]
    },
    {
     "name": "stdout",
     "output_type": "stream",
     "text": [
      "Overall accuracy: 0.388\n",
      "\n"
     ]
    },
    {
     "name": "stderr",
     "output_type": "stream",
     "text": [
      "unseen: 100%|██████████| 23/23 [00:03<00:00,  6.86batch/s, loss=2.71]\n",
      "Training Epoch:  78%|███████▊  | 7/9 [00:41<00:11,  5.81s/it]"
     ]
    },
    {
     "name": "stdout",
     "output_type": "stream",
     "text": [
      "Overall accuracy: 0.402\n",
      "\n"
     ]
    },
    {
     "name": "stderr",
     "output_type": "stream",
     "text": [
      "train: 100%|██████████| 97/97 [00:01<00:00, 60.89batch/s, loss=1.1, accuracy=0.438]\n",
      "seen: 100%|██████████| 24/24 [00:00<00:00, 89.89batch/s, loss=1.69]\n"
     ]
    },
    {
     "name": "stdout",
     "output_type": "stream",
     "text": [
      "Overall accuracy: 0.380\n",
      "\n"
     ]
    },
    {
     "name": "stderr",
     "output_type": "stream",
     "text": [
      "unseen: 100%|██████████| 23/23 [00:03<00:00,  7.32batch/s, loss=4.97]\n",
      "Training Epoch:  89%|████████▉ | 8/9 [00:46<00:05,  5.57s/it]"
     ]
    },
    {
     "name": "stdout",
     "output_type": "stream",
     "text": [
      "Overall accuracy: 0.397\n",
      "\n"
     ]
    },
    {
     "name": "stderr",
     "output_type": "stream",
     "text": [
      "train: 100%|██████████| 97/97 [00:01<00:00, 54.50batch/s, loss=1.03, accuracy=0.406]\n",
      "seen: 100%|██████████| 24/24 [00:00<00:00, 67.21batch/s, loss=0.916]\n"
     ]
    },
    {
     "name": "stdout",
     "output_type": "stream",
     "text": [
      "Overall accuracy: 0.396\n",
      "\n"
     ]
    },
    {
     "name": "stderr",
     "output_type": "stream",
     "text": [
      "unseen: 100%|██████████| 23/23 [00:03<00:00,  6.97batch/s, loss=2.61]\n",
      "                                                             \r"
     ]
    },
    {
     "name": "stdout",
     "output_type": "stream",
     "text": [
      "Overall accuracy: 0.385\n",
      "\n"
     ]
    },
    {
     "name": "stderr",
     "output_type": "stream",
     "text": [
      "unseen: 100%|██████████| 23/23 [00:02<00:00,  7.85batch/s, loss=8.28]\n"
     ]
    },
    {
     "data": {
      "image/png": "[encoded data removed]",
      "text/plain": [
       "<Figure size 640x480 with 2 Axes>"
      ]
     },
     "metadata": {},
     "output_type": "display_data"
    },
    {
     "name": "stdout",
     "output_type": "stream",
     "text": [
      "Overall accuracy: 0.402\n",
      "\n",
      "                  precision     recall   f1-score rel. freq. abs. freq.|\t biggest thieves\n",
      "\n",
      "   Close Fridge       0.478      0.699      0.568      0.482        355|\t Open Dishwasher: 0.223,\tClose Door 1: 0.079,\t\n",
      "   Close Door 1       0.291      0.071      0.114      0.307        226|\t Close Fridge: 0.704,\tOpen Dishwasher: 0.226,\t\n",
      "Open Dishwasher       0.198      0.206      0.202      0.211        155|\t Close Fridge: 0.723,\tClose Door 1: 0.071,\t\n",
      "\n",
      "----------------------------------------------------------------------------------------------------\n",
      "    avg / total       0.361      0.402      0.351        1.0        736|\t      \n",
      "\n",
      "{'total_accuracy': 0.40217391304347827, 'precision': 0.3220939863200621, 'recall': 0.3252798741253305, 'f1': 0.29442582295400427}\n",
      "========================================\n",
      "============== Overall Unseen Classes Performance ==============\n",
      "Shutting down background jobs, please wait a moment...\n",
      "Done!\n",
      "Waiting for the remaining 36 operations to synchronize with Neptune. Do not kill this process.\n",
      "All 36 operations synced, thanks for waiting!\n",
      "Explore the metadata in the Neptune app:\n",
      "https://app.neptune.ai/FYP-Group22/Approach-3/e/APR3-29\n"
     ]
    }
   ],
   "source": [
    "fold_metric_scores = []\n",
    "for i, cs in enumerate(fold_cls_ids):\n",
    "    print(\"=\"*16, f'Fold-{i}', \"=\"*16)\n",
    "    # print(f'Unseen Classes : {fold_classes[i]}')\n",
    "    # separate seen/unseen and train/eval \n",
    "    data_dict = dataReader.generate(unseen_classes=cs, seen_ratio=config['seen_split'], unseen_ratio=config['unseen_split'], window_size=config['window_size'], window_overlap=config['overlap'], resample_freq=config['sample_freq'])\n",
    "    all_classes = dataReader.idToLabel\n",
    "    seen_classes = data_dict['seen_classes']\n",
    "    unseen_classes = data_dict['unseen_classes']\n",
    "    # print(\"seen classes > \", seen_classes)\n",
    "    # print(\"unseen classes > \", unseen_classes)\n",
    "    if dt == 'UTD':\n",
    "        train_n = len(data_dict['train']['X'])\n",
    "        seq_len, in_ft = 100, 6\n",
    "\n",
    "    else:\n",
    "        train_n, seq_len, in_ft = data_dict['train']['X'].shape\n",
    "    # build train_dt \n",
    "    # print(seen_classes)\n",
    "    train_dt = dts(data=data_dict['train']['X'], actions=data_dict['train']['y'], attributes=attr_mat, action_feats=feat_mat, action_classes=seen_classes, seq_len=100)\n",
    "    train_dl = DataLoader(train_dt, batch_size=config['batch_size'], shuffle=True, pin_memory=True, drop_last=True)\n",
    "    # build seen eval_dt \n",
    "    eval_dt = dts(data=data_dict['eval-seen']['X'], actions=data_dict['eval-seen']['y'], attributes=attr_mat, action_feats=feat_mat, action_classes=seen_classes, seq_len=100)\n",
    "    eval_dl = DataLoader(eval_dt, batch_size=config['batch_size'], shuffle=True, pin_memory=True, drop_last=True)\n",
    "    # build unseen test_dt\n",
    "    test_dt = dts(data=data_dict['test']['X'], actions=data_dict['test']['y'], attributes=attr_mat, action_feats=feat_mat, action_classes=unseen_classes, seq_len=100)\n",
    "    test_dl = DataLoader(test_dt, batch_size=config['batch_size'], shuffle=True, pin_memory=True, drop_last=True)\n",
    "    \n",
    "    # build model\n",
    "    model = Model6a(in_ft=in_ft, d_model=config['d_model'], num_heads=config['num_heads'], ft_size=feat_size, max_len=seq_len, n_classes=len(seen_classes))\n",
    "    # model = Model1(feat_dim=in_ft, max_len=seq_len, d_model=config['d_model'], n_heads=config['num_heads'], num_layers=2, dim_feedforward=128, ft_size=feat_size)\n",
    "    model.to(device)\n",
    "    # define run parameters \n",
    "    optimizer = Adam(model.parameters(), lr=config['lr'])\n",
    "    loss_module = {'class': nn.CrossEntropyLoss(), 'feature': MSELoss()}\n",
    "    best_acc = 0.0\n",
    "    # train the model \n",
    "    for epoch in tqdm(range(config['n_epochs']), desc='Training Epoch', leave=False):\n",
    "        train_metrics = train_step1(model, train_dl, optimizer, loss_module, device, class_names=[all_classes[i] for i in seen_classes], phase='train', loss_alpha=config['loss_alpha'])\n",
    "        log(i, 'train', train_metrics)\n",
    "        eval_metrics = eval_step1(model, eval_dl, loss_module, device, class_names=[all_classes[i] for i in seen_classes],  target_feat_met=eval_dt.target_feat, phase='seen', print_report=False, loss_alpha=config['loss_alpha'], show_plot=False)\n",
    "        log(i, 'seen-eval', eval_metrics)\n",
    "\n",
    "        ueval_metrics = eval_step1(model, test_dl, loss_module, device, class_names=[all_classes[i] for i in unseen_classes],  target_feat_met=test_dt.target_feat, phase='unseen', print_report=False, loss_alpha=config['loss_alpha'], show_plot=False)\n",
    "        log(i, 'unseen-eval', ueval_metrics)\n",
    "        # print(f\"EPOCH [{epoch}] TRAINING : {train_metrics}\")\n",
    "        # print(f\"EPOCH [{epoch}] EVAL : {eval_metrics}\")\n",
    "        if eval_metrics['total_accuracy'] > best_acc:\n",
    "            best_model = deepcopy(model.state_dict())\n",
    "    \n",
    "    if best_acc == 0.0:\n",
    "        best_model = deepcopy(model.state_dict())\n",
    "    \n",
    "    # replace by best model \n",
    "    model.load_state_dict(best_model)\n",
    "\n",
    "    # run evaluation on unseen classes\n",
    "    test_metrics = eval_step1(model, test_dl, loss_module, device, class_names=[all_classes[i] for i in unseen_classes],  target_feat_met=test_dt.target_feat, phase='unseen', loss_alpha=config['loss_alpha'])\n",
    "    fold_metric_scores.append(test_metrics)\n",
    "    log('test', i, test_metrics)\n",
    "    print(test_metrics)\n",
    "    print(\"=\"*40)\n",
    "    \n",
    "print(\"=\"*14, \"Overall Unseen Classes Performance\", \"=\"*14)\n",
    "seen_score_df = pd.DataFrame.from_records(fold_metric_scores)\n",
    "seen_score_df.mean()\n",
    "log('global', '',seen_score_df.mean().to_dict())\n",
    "run.stop()"
   ]
  },
  {
   "cell_type": "code",
   "execution_count": null,
   "metadata": {},
   "outputs": [],
   "source": []
  }
 ],
 "metadata": {
  "kernelspec": {
   "display_name": "Python 3.8.13 ('mvts_trans')",
   "language": "python",
   "name": "python3"
  },
  "language_info": {
   "codemirror_mode": {
    "name": "ipython",
    "version": 3
   },
   "file_extension": ".py",
   "mimetype": "text/x-python",
   "name": "python",
   "nbconvert_exporter": "python",
   "pygments_lexer": "ipython3",
   "version": "3.8.13"
  },
  "orig_nbformat": 4,
  "vscode": {
   "interpreter": {
    "hash": "ccc35149ad8fa032444ebff1245e6ef176e6c1ce3af8dec48e3374f21a6b0f27"
   }
  }
 },
 "nbformat": 4,
 "nbformat_minor": 2
}
