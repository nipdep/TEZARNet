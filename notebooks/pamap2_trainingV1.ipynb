{
 "cells": [
  {
   "cell_type": "code",
   "execution_count": 2,
   "metadata": {},
   "outputs": [],
   "source": [
    "import torch "
   ]
  },
  {
   "cell_type": "markdown",
   "metadata": {},
   "source": [
    "---\n",
    "Data & Configuration setup"
   ]
  },
  {
   "cell_type": "code",
   "execution_count": 6,
   "metadata": {},
   "outputs": [],
   "source": [
    "# build PAMAP2 dataset data reader\n",
    "import os\n",
    "import numpy as np\n",
    "from sklearn.model_selection import train_test_split\n",
    "import random\n",
    "from scipy.signal import resample\n",
    "\n",
    "class PAMAP2Reader(object):\n",
    "    def __init__(self, root_path):\n",
    "        self.root_path = root_path\n",
    "        self.readPamap2()\n",
    "\n",
    "    def readFile(self, file_path):\n",
    "        all_data = {\"data\": {}, \"target\": {}}\n",
    "        prev_action = -1\n",
    "        starting = True\n",
    "        # action_seq = []\n",
    "        action_ID = 0\n",
    "        for l in open(file_path).readlines():\n",
    "            s = l.strip().split()\n",
    "            if (prev_action != int(s[1])):\n",
    "                if not(starting):\n",
    "                    all_data['data'][action_ID] = np.array(action_seq)\n",
    "                    all_data['target'][action_ID] = prev_action\n",
    "                    action_ID+=1\n",
    "                action_seq = []\n",
    "            else:\n",
    "                starting = False\n",
    "            data_seq = np.nan_to_num(np.array(s[3:]), nan=0)\n",
    "            # data_seq[np.isnan(data_seq)] = 0\n",
    "            action_seq.append(data_seq)\n",
    "            prev_action = int(s[1])\n",
    "        return all_data\n",
    "\n",
    "    def readPamap2Files(self, filelist, cols, labelToId):\n",
    "        data = []\n",
    "        labels = []\n",
    "        for i, filename in enumerate(filelist):\n",
    "            print('Reading file %d of %d' % (i+1, len(filelist)))\n",
    "            fpath = os.path.join(self.root_path, filename)\n",
    "            file_data = self.readFile(fpath)\n",
    "            data.extend(list(file_data['data'].values()))\n",
    "            labels.extend(list(file_data['target'].values()))\n",
    "        \n",
    "        return np.asarray(data), np.asarray(labels, dtype=int)+1\n",
    "\n",
    "    def readPamap2(self):\n",
    "        files = ['subject101.dat', 'subject102.dat','subject103.dat','subject104.dat', 'subject105.dat', 'subject106.dat', 'subject107.dat', 'subject108.dat', 'subject109.dat']\n",
    "            \n",
    "        label_map = [\n",
    "            # (0, 'other'),\n",
    "            (1, 'lying'),\n",
    "            (2, 'sitting'),\n",
    "            (3, 'standing'),\n",
    "            (4, 'walking'),\n",
    "            (5, 'running'),\n",
    "            (6, 'cycling'),\n",
    "            (7, 'Nordic walking'),\n",
    "            (9, 'watching TV'),\n",
    "            (10, 'computer work'),\n",
    "            (11, 'car driving'),\n",
    "            (12, 'ascending stairs'),\n",
    "            (13, 'descending stairs'),\n",
    "            (16, 'vacuum cleaning'),\n",
    "            (17, 'ironing'),\n",
    "            (18, 'folding laundry'),\n",
    "            (19, 'house cleaning'),\n",
    "            (20, 'playing soccer'),\n",
    "            (24, 'rope jumping')\n",
    "        ]\n",
    "        labelToId = {str(x[0]): i for i, x in enumerate(label_map)}\n",
    "        # print \"label2id=\",labelToId\n",
    "        idToLabel = [x[1] for x in label_map]\n",
    "        # print \"id2label=\",idToLabel\n",
    "        cols = [\n",
    "                1, 2, 3, 4, 5, 6, 7, 8, 9, 10, 11, 12, 13, 14, 15, 16, 17, 18, 19, 20, 21, 22, 23, 24, 25, 26, 27, 28, 29, 30, 31, 32, 33, 34,\n",
    "                35, 36, 37, 38, 39, 40, 41, 42, 43, 44, 45, 46, 47, 48, 49, 50, 51, 52, 53\n",
    "                ]\n",
    "        # print \"cols\",cols\n",
    "        self.data, self.targets = self.readPamap2Files(files, cols, labelToId)\n",
    "        self.label_map = label_map\n",
    "        self.idToLabel = idToLabel\n",
    "        # return data, idToLabel\n",
    "\n",
    "    def resampling(self, data, targets):\n",
    "        assert len(data) == len(targets), \"# action data & # action labels are not matching\"\n",
    "        all_data, all_ids, all_labels = [], [], []\n",
    "        for i, d in enumerate(data):\n",
    "            l, _ = d.shape \n",
    "            label = targets[i]\n",
    "            if l < 1200 : # minimum length requirement\n",
    "                break \n",
    "            # generate sampling points\n",
    "            n_point, _ = divmod(l, 1200)\n",
    "            sampling_points = np.arange(start=0, stop=l, step=1200)[:-1]\n",
    "            sampling_points = sampling_points-200\n",
    "            sampling_points[0] = 0\n",
    "            # window sampling \n",
    "            for s in sampling_points:\n",
    "                sub_sample = resample(d[s:s+1200, :], num=120)\n",
    "                all_data.append(sub_sample)\n",
    "                all_ids.append(i+1)\n",
    "                all_labels.append(label)\n",
    "            \n",
    "        return all_data, all_ids, all_labels\n",
    "\n",
    "    def generate(self, unseen_classes, resampling=True, seen_ratio=0.2, unseen_ratio=0.8):\n",
    "        # assert all([i in list(self.label_map.keys()) for i in unseen_classes]), \"Unknown Class label!\"\n",
    "        seen_classes = [i for i in self.idToLabel if i not in unseen_classes]\n",
    "        unseen_mask = np.in1d(self.targets, unseen_classes)\n",
    "\n",
    "        # build seen dataset \n",
    "        seen_data = self.data[np.invert(unseen_mask)]\n",
    "        seen_targets = self.targets[np.invert(unseen_mask)]\n",
    "\n",
    "        # build unseen dataset\n",
    "        unseen_data = self.data[unseen_mask]\n",
    "        unseen_targets = self.targets[unseen_mask]\n",
    "\n",
    "        # resampling seen and unseen datasets \n",
    "        seen_data, seen_ids, seen_targets = self.resampling(seen_data, seen_targets)\n",
    "        unseen_data, unseen_ids, unseen_targets = self.resampling(unseen_data, unseen_targets)\n",
    "\n",
    "        seen_data, seen_targets = np.array(seen_data), np.array(seen_targets)\n",
    "        unseen_data, unseen_targets = np.array(unseen_data), np.array(unseen_targets)\n",
    "        # train-val split\n",
    "        seen_index = list(range(len(seen_targets)))\n",
    "        random.shuffle(seen_index)\n",
    "        split_point = int((1-seen_ratio)*len(seen_index))\n",
    "        fst_index, sec_index = seen_index[:split_point], seen_index[split_point:]\n",
    "        print(type(fst_index), type(sec_index), type(seen_data), type(seen_targets))\n",
    "        X_seen_train, X_seen_val, y_seen_train, y_seen_val = seen_data[fst_index,:], seen_data[sec_index,:], seen_targets[fst_index], seen_targets[sec_index]\n",
    "        \n",
    "        # val-test split\n",
    "        unseen_index = list(range(len(unseen_targets)))\n",
    "        random.shuffle(unseen_index)\n",
    "        split_point = int((1-unseen_ratio)*len(unseen_index))\n",
    "        fst_index, sec_index = unseen_index[:split_point], unseen_index[split_point:]\n",
    "\n",
    "        X_unseen_val, X_unseen_test, y_unseen_val, y_unseen_test = unseen_data[fst_index,:], unseen_data[sec_index,:], unseen_targets[fst_index], unseen_targets[sec_index]\n",
    "\n",
    "        data = {'train': {\n",
    "                        'X': X_seen_train,\n",
    "                        'y': y_seen_train\n",
    "                        },\n",
    "                'eval-seen':{\n",
    "                        'X': X_seen_val,\n",
    "                        'y': y_seen_val\n",
    "                        },\n",
    "                'eval-unseen':{\n",
    "                        'X': X_unseen_val,\n",
    "                        'y': y_unseen_val\n",
    "                        },\n",
    "                'test': {\n",
    "                        'X': X_unseen_test,\n",
    "                        'y': y_unseen_test\n",
    "                        },\n",
    "                'seen_classes': seen_classes,\n",
    "                'unseen_classes': unseen_classes\n",
    "                }\n",
    "\n",
    "        return data\n",
    "        "
   ]
  },
  {
   "cell_type": "code",
   "execution_count": 7,
   "metadata": {},
   "outputs": [
    {
     "name": "stdout",
     "output_type": "stream",
     "text": [
      "Reading file 1 of 9\n",
      "Reading file 2 of 9\n",
      "Reading file 3 of 9\n",
      "Reading file 4 of 9\n",
      "Reading file 5 of 9\n",
      "Reading file 6 of 9\n",
      "Reading file 7 of 9\n",
      "Reading file 8 of 9\n",
      "Reading file 9 of 9\n"
     ]
    },
    {
     "name": "stderr",
     "output_type": "stream",
     "text": [
      "C:\\Users\\deela\\AppData\\Local\\Temp\\ipykernel_38700\\4100395959.py:45: VisibleDeprecationWarning: Creating an ndarray from ragged nested sequences (which is a list-or-tuple of lists-or-tuples-or ndarrays with different lengths or shapes) is deprecated. If you meant to do this, you must specify 'dtype=object' when creating the ndarray.\n",
      "  return np.asarray(data), np.asarray(labels, dtype=int)+1\n"
     ]
    }
   ],
   "source": [
    "dataReader = PAMAP2Reader('../data/PAMAP2_Dataset/Protocol/')"
   ]
  },
  {
   "cell_type": "code",
   "execution_count": 11,
   "metadata": {},
   "outputs": [
    {
     "name": "stdout",
     "output_type": "stream",
     "text": [
      "Action Label List >  ['lying', 'sitting', 'standing', 'walking', 'running', 'cycling', 'Nordic walking', 'watching TV', 'computer work', 'car driving', 'ascending stairs', 'descending stairs', 'vacuum cleaning', 'ironing', 'folding laundry', 'house cleaning', 'playing soccer', 'rope jumping'] fold action ids >  [[7, 15, 2, 10], [3, 17, 1, 11], [16, 0, 12, 8], [5, 4, 6], [13, 9, 14]]\n"
     ]
    }
   ],
   "source": [
    "fold_classes = [['watching TV', 'house cleaning', 'standing', 'ascending stairs'], ['walking', 'rope jumping', 'sitting', 'descending stairs'], ['playing soccer', 'lying', 'vacuum cleaning', 'computer work'], ['cycling', 'running', 'Nordic walking'], ['ironing', 'car driving', 'folding laundry']]\n",
    "actionList = dataReader.idToLabel\n",
    "fold_cls_ids = [[actionList.index(i) for i in j] for j in fold_classes]\n",
    "print(\"Action Label List > \", actionList, \"fold action ids > \", fold_cls_ids)"
   ]
  },
  {
   "cell_type": "code",
   "execution_count": 8,
   "metadata": {},
   "outputs": [],
   "source": [
    "# import action attributes\n",
    "import json \n",
    "import numpy as np\n",
    "\n",
    "def load_attribute(fpath):\n",
    "    with open(fpath, \"r\") as pf:\n",
    "        json_data = json.load(pf)\n",
    "\n",
    "    activity_dict = json_data[\"Activity\"]\n",
    "    attribute_dict = json_data[\"Attribute\"]\n",
    "    attr_met = np.array(list(json_data[\"Mark\"].values()))\n",
    "    return activity_dict, attribute_dict, attr_met"
   ]
  },
  {
   "cell_type": "code",
   "execution_count": 9,
   "metadata": {},
   "outputs": [],
   "source": [
    "activity_dict, attribute_dict, attr_mat = load_attribute('./PAMAP2_attributes.json')"
   ]
  },
  {
   "cell_type": "code",
   "execution_count": 30,
   "metadata": {},
   "outputs": [
    {
     "data": {
      "text/plain": [
       "(18, 42)"
      ]
     },
     "execution_count": 30,
     "metadata": {},
     "output_type": "execute_result"
    }
   ],
   "source": [
    "attr_mat.shape"
   ]
  },
  {
   "cell_type": "code",
   "execution_count": 10,
   "metadata": {},
   "outputs": [],
   "source": [
    "# import action semantic features \n",
    "# generate random feature matrix \n",
    "import numpy as np\n",
    "\n",
    "feat_size = 64\n",
    "n_actions = 18 \n",
    "feat_mat = np.random.randn(n_actions, feat_size)"
   ]
  },
  {
   "cell_type": "code",
   "execution_count": 33,
   "metadata": {},
   "outputs": [
    {
     "data": {
      "text/plain": [
       "torch.Size([4, 64])"
      ]
     },
     "execution_count": 33,
     "metadata": {},
     "output_type": "execute_result"
    }
   ],
   "source": [
    "tg_feat = torch.from_numpy(feat_mat[[1, 4, 14, 2], :])\n",
    "tg_feat.shape"
   ]
  },
  {
   "cell_type": "markdown",
   "metadata": {},
   "source": [
    "---\n",
    "DataSet Classes & DataLoaders"
   ]
  },
  {
   "cell_type": "code",
   "execution_count": 38,
   "metadata": {},
   "outputs": [],
   "source": [
    "# build mock dataloader\n",
    "import numpy as np \n",
    "import torch\n",
    "from torch.utils.data import Dataset, DataLoader\n",
    "\n",
    "class PAMAP2Dataset(Dataset):\n",
    "    def __init__(self, data, actions, attributes, action_feats, action_classes):\n",
    "        super(PAMAP2Dataset, self).__init__()\n",
    "        self.data = torch.from_numpy(data)\n",
    "        self.actions = actions\n",
    "        self.attributes = torch.from_numpy(attributes)\n",
    "        self.action_feats = torch.from_numpy(action_feats)\n",
    "        self.target_feat = torch.from_numpy(action_feats[action_classes, :])\n",
    "        # build action to id mapping dict\n",
    "        self.n_action = len(self.actions)\n",
    "        self.action2Id = dict(zip(action_classes, range(self.n_action)))\n",
    "\n",
    "    def __getitem__(self, ind):\n",
    "        x = self.data[ind, ...]\n",
    "        x_mask = None #self.padding_mask[ind, ...]\n",
    "        target = self.actions[ind]\n",
    "        y = torch.from_numpy(np.array([self.action2Id[target]]))\n",
    "        y_feat = self.action_feats[target, ...]\n",
    "        attr = self.attributes[target, ...]\n",
    "        return x, y, y_feat, attr, x_mask\n",
    "\n",
    "    def __len__(self):\n",
    "        return self.data.shape[0]\n"
   ]
  },
  {
   "cell_type": "code",
   "execution_count": 17,
   "metadata": {},
   "outputs": [
    {
     "name": "stdout",
     "output_type": "stream",
     "text": [
      "<class 'list'> <class 'list'> <class 'numpy.ndarray'> <class 'numpy.ndarray'>\n"
     ]
    }
   ],
   "source": [
    "data_dict = dataReader.generate(unseen_classes=[7, 15, 2, 10], resampling=True, seen_ratio=0.2, unseen_ratio=0.8)"
   ]
  },
  {
   "cell_type": "code",
   "execution_count": 34,
   "metadata": {},
   "outputs": [],
   "source": [
    "seen_classes = [i for i in range(18) if i not in [7, 15, 2, 10]]"
   ]
  },
  {
   "cell_type": "code",
   "execution_count": 29,
   "metadata": {},
   "outputs": [
    {
     "data": {
      "text/plain": [
       "(536, 120, 51)"
      ]
     },
     "execution_count": 29,
     "metadata": {},
     "output_type": "execute_result"
    }
   ],
   "source": [
    "data_dict['train']['X'].shape"
   ]
  },
  {
   "cell_type": "code",
   "execution_count": 39,
   "metadata": {},
   "outputs": [],
   "source": [
    "train_data = data_dict['train']['X']\n",
    "train_targets = data_dict['train']['y']\n",
    "sample_dt = PAMAP2Dataset(data=train_data, actions=train_targets, attributes=attr_mat, action_feats=feat_mat, action_classes=seen_classes)\n",
    "sample_dl = DataLoader(sample_dt, batch_size=32, shuffle=True, pin_memory=True)"
   ]
  },
  {
   "cell_type": "code",
   "execution_count": 23,
   "metadata": {},
   "outputs": [],
   "source": [
    "for x,y,y_feat,attr,mask in sample_dt:\n",
    "    break"
   ]
  },
  {
   "cell_type": "code",
   "execution_count": 24,
   "metadata": {},
   "outputs": [],
   "source": [
    "mask"
   ]
  },
  {
   "cell_type": "code",
   "execution_count": 25,
   "metadata": {},
   "outputs": [
    {
     "data": {
      "text/plain": [
       "torch.Size([120, 51])"
      ]
     },
     "execution_count": 25,
     "metadata": {},
     "output_type": "execute_result"
    }
   ],
   "source": [
    "x.shape"
   ]
  },
  {
   "cell_type": "code",
   "execution_count": 26,
   "metadata": {},
   "outputs": [
    {
     "data": {
      "text/plain": [
       "tensor([6], dtype=torch.int32)"
      ]
     },
     "execution_count": 26,
     "metadata": {},
     "output_type": "execute_result"
    }
   ],
   "source": [
    "y"
   ]
  },
  {
   "cell_type": "code",
   "execution_count": 27,
   "metadata": {},
   "outputs": [
    {
     "data": {
      "text/plain": [
       "tensor([1, 0, 0, 0, 0, 1, 1, 1, 0, 0, 0, 0, 0, 1, 1, 1, 0, 1, 1, 1, 1, 1, 0, 1,\n",
       "        1, 0, 0, 0, 1, 0, 0, 0, 0, 0, 0, 0, 1, 1, 0, 0, 1, 0],\n",
       "       dtype=torch.int32)"
      ]
     },
     "execution_count": 27,
     "metadata": {},
     "output_type": "execute_result"
    }
   ],
   "source": [
    "attr"
   ]
  },
  {
   "cell_type": "markdown",
   "metadata": {},
   "source": [
    "---\n",
    "Setup Model"
   ]
  },
  {
   "cell_type": "code",
   "execution_count": 17,
   "metadata": {},
   "outputs": [],
   "source": [
    "import numpy as np \n",
    "import math\n",
    "\n",
    "import torch \n",
    "from torch import nn, Tensor\n",
    "from torch.nn import functional as F "
   ]
  },
  {
   "cell_type": "code",
   "execution_count": 18,
   "metadata": {},
   "outputs": [],
   "source": [
    "# relative global attention based transformer encoder implementation\n",
    "class RelativeGlobalAttention(nn.Module):\n",
    "    def __init__(self, d_model, num_heads, max_len=1024, dropout=0.1):\n",
    "        super().__init__()\n",
    "        d_head, remainder = divmod(d_model, num_heads)\n",
    "        if remainder:\n",
    "            raise ValueError(\n",
    "                \"incompatible `d_model` and `num_heads`\"\n",
    "            )\n",
    "        self.max_len = max_len\n",
    "        self.d_model = d_model\n",
    "        self.num_heads = num_heads\n",
    "        self.key = nn.Linear(d_model, d_model)\n",
    "        self.value = nn.Linear(d_model, d_model)\n",
    "        self.query = nn.Linear(d_model, d_model)\n",
    "        self.dropout = nn.Dropout(dropout)\n",
    "        self.Er = nn.Parameter(torch.randn(max_len, d_head))\n",
    "        self.register_buffer(\n",
    "            \"mask\", \n",
    "            torch.tril(torch.ones(max_len, max_len))\n",
    "            .unsqueeze(0).unsqueeze(0)\n",
    "        )\n",
    "\n",
    "    \n",
    "    def forward(self, x):\n",
    "        batch_size, seq_len, _ = x.shape\n",
    "        \n",
    "        if seq_len > self.max_len:\n",
    "            raise ValueError(\n",
    "                \"sequence length exceeds model capacity\"\n",
    "            )\n",
    "        \n",
    "        k_t = self.key(x).reshape(batch_size, seq_len, self.num_heads, -1).permute(0, 2, 3, 1)\n",
    "        v = self.value(x).reshape(batch_size, seq_len, self.num_heads, -1).transpose(1, 2)\n",
    "        q = self.query(x).reshape(batch_size, seq_len, self.num_heads, -1).transpose(1, 2)\n",
    "        \n",
    "        start = self.max_len - seq_len\n",
    "        Er_t = self.Er[start:, :].transpose(0, 1) # automatic positional padding\n",
    "        QEr = torch.matmul(q, Er_t)\n",
    "        Srel = self.skew(QEr)\n",
    "        \n",
    "        QK_t = torch.matmul(q, k_t)\n",
    "        attn = (QK_t + Srel) / math.sqrt(q.size(-1))\n",
    "        mask = self.mask[:, :, :seq_len, :seq_len]\n",
    "        attn = attn.masked_fill(mask == 0, float(\"-inf\"))\n",
    "        attn = F.softmax(attn, dim=-1)\n",
    "        out = torch.matmul(attn, v)\n",
    "        out = out.transpose(1, 2)\n",
    "        out = out.reshape(batch_size, seq_len, -1)\n",
    "        return self.dropout(out)\n",
    "        \n",
    "    \n",
    "    def skew(self, QEr):\n",
    "        padded = F.pad(QEr, (1, 0))\n",
    "        batch_size, num_heads, num_rows, num_cols = padded.shape\n",
    "        reshaped = padded.reshape(batch_size, num_heads, num_cols, num_rows)\n",
    "        Srel = reshaped[:, :, 1:, :]\n",
    "        return Srel"
   ]
  },
  {
   "cell_type": "code",
   "execution_count": 19,
   "metadata": {},
   "outputs": [],
   "source": [
    "# build E2E ZSL HAR Model\n",
    "\n",
    "class ZSLHARNet(nn.Module):\n",
    "    def __init__(self, in_ft, d_model, num_heads, ft_size, attr_size, max_len=1024, dropout=0.1):\n",
    "        super().__init__()\n",
    "        self.in_ft = in_ft\n",
    "        self.max_len = max_len\n",
    "        self.d_model = d_model\n",
    "        self.num_heads = num_heads\n",
    "        self.ft_size = ft_size # semantic space size <-> output feature space size\n",
    "        self.attr_size = attr_size # intermediate attribute space size \n",
    "\n",
    "        # custom sample layer configuration\n",
    "        # Dense layer for feature projection\n",
    "        self.DenseL = nn.Linear(in_ft, d_model)\n",
    "        # attention encoder <-> global relative attention used here\n",
    "        self.AttnL = RelativeGlobalAttention(d_model, num_heads, max_len)\n",
    "        # positional encoding concat <-> LSTM \n",
    "        self.lstmL = nn.LSTM(input_size=d_model, hidden_size=ft_size, batch_first=True)\n",
    "        # SAE submodule\n",
    "        self.EncDenseL = nn.Linear(in_features=ft_size, out_features=attr_size, bias=False)\n",
    "        self.DecDenseL = nn.Linear(in_features=attr_size, out_features=ft_size, bias=False)\n",
    "        # override weights\n",
    "        del self.EncDenseL.weight\n",
    "        del self.DecDenseL.weight\n",
    "        # define shared weights\n",
    "        self.TransMet = nn.Parameter(torch.randn(attr_size, ft_size))\n",
    "\n",
    "\n",
    "    def forward(self, x):\n",
    "        out = self.DenseL(x)\n",
    "        out = self.AttnL(out)\n",
    "        lstm_out, hidden = self.lstmL(out)\n",
    "        # SAE Operation\n",
    "        self.EncDenseL.weight = self.TransMet\n",
    "        self.DecDenseL.weight = self.TransMet.T \n",
    "        attr_out = self.EncDenseL(lstm_out[:, -1, :])\n",
    "        ft_out = self.DecDenseL(attr_out)\n",
    "        return attr_out, ft_out"
   ]
  },
  {
   "cell_type": "code",
   "execution_count": 20,
   "metadata": {},
   "outputs": [],
   "source": [
    "model = ZSLHARNet(in_ft=6, d_model=128, num_heads=8, ft_size=64, attr_size=16, max_len=120)"
   ]
  },
  {
   "cell_type": "code",
   "execution_count": 21,
   "metadata": {},
   "outputs": [
    {
     "name": "stdout",
     "output_type": "stream",
     "text": [
      "torch.Size([32, 16]) torch.Size([32, 64])\n"
     ]
    }
   ],
   "source": [
    "sample_input = torch.randn((32, 120, 6))\n",
    "\n",
    "attr_out, feat_out = model(sample_input)\n",
    "print(attr_out.shape, feat_out.shape)"
   ]
  },
  {
   "cell_type": "code",
   "execution_count": null,
   "metadata": {},
   "outputs": [],
   "source": []
  },
  {
   "cell_type": "markdown",
   "metadata": {},
   "source": [
    "---\n",
    "Setup Training & evaluation pipeline"
   ]
  },
  {
   "cell_type": "code",
   "execution_count": 68,
   "metadata": {},
   "outputs": [],
   "source": [
    "from sklearn import metrics\n",
    "import matplotlib.pyplot as plt\n",
    "\n",
    "def plot_confusion_matrix(ConfMat, label_strings=None, title='Confusion matrix', cmap=plt.cm.get_cmap('Blues')):\n",
    "    \"\"\"Plot confusion matrix in a separate window\"\"\"\n",
    "    plt.imshow(ConfMat, interpolation='nearest', cmap=cmap)\n",
    "    plt.title(title)\n",
    "    plt.colorbar()\n",
    "    if label_strings:\n",
    "        tick_marks = np.arange(len(label_strings))\n",
    "        plt.xticks(tick_marks, label_strings, rotation=90)\n",
    "        plt.yticks(tick_marks, label_strings)\n",
    "    plt.tight_layout()\n",
    "    plt.ylabel('True label')\n",
    "    plt.xlabel('Predicted label')\n",
    "\n",
    "def generate_classification_report(existing_class_names, precision, recall, f1, support, ConfMatrix_normalized_row, digits=3, number_of_thieves=2, maxcharlength=35):\n",
    "    \"\"\"\n",
    "    Returns a string of a report for given metric arrays (array length equals the number of classes).\n",
    "    Called internally by `analyze_classification`.\n",
    "        digits: number of digits after . for displaying results\n",
    "        number_of_thieves: number of biggest thieves to report\n",
    "        maxcharlength: max. number of characters to use when displaying thief names\n",
    "    \"\"\"\n",
    "\n",
    "    relative_freq = support / np.sum(support)  # relative frequencies of each class in the true lables\n",
    "    sorted_class_indices = np.argsort(relative_freq)[\n",
    "                            ::-1]  # sort by \"importance\" of classes (i.e. occurance frequency)\n",
    "\n",
    "    last_line_heading = 'avg / total'\n",
    "\n",
    "    width = max(len(cn) for cn in existing_class_names)\n",
    "    width = max(width, len(last_line_heading), digits)\n",
    "\n",
    "    headers = [\"precision\", \"recall\", \"f1-score\", \"rel. freq.\", \"abs. freq.\", \"biggest thieves\"]\n",
    "    fmt = '%% %ds' % width  # first column: class name\n",
    "    fmt += '  '\n",
    "    fmt += ' '.join(['% 10s' for _ in headers[:-1]])\n",
    "    fmt += '|\\t % 5s'\n",
    "    fmt += '\\n'\n",
    "\n",
    "    headers = [\"\"] + headers\n",
    "    report = fmt % tuple(headers)\n",
    "    report += '\\n'\n",
    "\n",
    "    for i in sorted_class_indices:\n",
    "        values = [existing_class_names[i]]\n",
    "        for v in (precision[i], recall[i], f1[i],\n",
    "                    relative_freq[i]):  # v is NOT a tuple, just goes through this list 1 el. at a time\n",
    "            values += [\"{0:0.{1}f}\".format(v, digits)]\n",
    "        values += [\"{}\".format(support[i])]\n",
    "        thieves = np.argsort(ConfMatrix_normalized_row[i, :])[::-1][\n",
    "                    :number_of_thieves + 1]  # other class indices \"stealing\" from class. May still contain self\n",
    "        thieves = thieves[thieves != i]  # exclude self at this point\n",
    "        steal_ratio = ConfMatrix_normalized_row[i, thieves]\n",
    "        thieves_names = [\n",
    "            existing_class_names[thief][:min(maxcharlength, len(existing_class_names[thief]))] for thief\n",
    "            in thieves]  # a little inefficient but inconsequential\n",
    "        string_about_stealing = \"\"\n",
    "        for j in range(len(thieves)):\n",
    "            string_about_stealing += \"{0}: {1:.3f},\\t\".format(thieves_names[j], steal_ratio[j])\n",
    "        values += [string_about_stealing]\n",
    "\n",
    "        report += fmt % tuple(values)\n",
    "\n",
    "    report += '\\n' + 100 * '-' + '\\n'\n",
    "\n",
    "    # compute averages/sums\n",
    "    values = [last_line_heading]\n",
    "    for v in (np.average(precision, weights=relative_freq),\n",
    "                np.average(recall, weights=relative_freq),\n",
    "                np.average(f1, weights=relative_freq)):\n",
    "        values += [\"{0:0.{1}f}\".format(v, digits)]\n",
    "    values += ['{0}'.format(np.sum(relative_freq))]\n",
    "    values += ['{0}'.format(np.sum(support))]\n",
    "    values += ['']\n",
    "\n",
    "    # make last (\"Total\") line for report\n",
    "    report += fmt % tuple(values)\n",
    "\n",
    "    return report\n",
    "\n",
    "\n",
    "def action_evaluator(y_pred, y_true, class_names, excluded_classes=None, maxcharlength=35):\n",
    "    \"\"\"\n",
    "    For an array of label predictions and the respective true labels, shows confusion matrix, accuracy, recall, precision etc:\n",
    "    Input:\n",
    "        y_pred: 1D array of predicted labels (class indices)\n",
    "        y_true: 1D array of true labels (class indices)\n",
    "        class_names: 1D array or list of class names in the order of class indices.\n",
    "            Could also be integers [0, 1, ..., num_classes-1].\n",
    "        excluded_classes: list of classes to be excluded from average precision, recall calculation (e.g. OTHER)\n",
    "    \"\"\"\n",
    "\n",
    "    # Trim class_names to include only classes existing in y_pred OR y_true\n",
    "    in_pred_labels = set(list(y_pred))\n",
    "    in_true_labels = set(list(y_true))\n",
    "\n",
    "    existing_class_ind = sorted(list(in_pred_labels | in_true_labels))\n",
    "    # print(\"pred label\", in_pred_labels, \"true label\", in_true_labels)\n",
    "    class_strings = [str(name) for name in class_names]  # needed in case `class_names` elements are not strings\n",
    "    existing_class_names = [class_strings[ind][:min(maxcharlength, len(class_strings[ind]))] for ind in existing_class_ind]  # a little inefficient but inconsequential\n",
    "\n",
    "    # Confusion matrix\n",
    "    ConfMatrix = metrics.confusion_matrix(y_true, y_pred)\n",
    "\n",
    "    # Normalize the confusion matrix by row (i.e by the number of samples in each class)\n",
    "    ConfMatrix_normalized_row = ConfMatrix.astype('float') / ConfMatrix.sum(axis=1)[:, np.newaxis] #@nipdep\n",
    "\n",
    "    \n",
    "    plt.figure()\n",
    "    plot_confusion_matrix(ConfMatrix_normalized_row, label_strings=existing_class_names,\n",
    "                            title='Confusion matrix normalized by row')\n",
    "    plt.show(block=False)\n",
    "\n",
    "    # Analyze results\n",
    "    total_accuracy = np.trace(ConfMatrix) / len(y_true)\n",
    "    print('Overall accuracy: {:.3f}\\n'.format(total_accuracy))\n",
    "\n",
    "    # returns metrics for each class, in the same order as existing_class_names\n",
    "    precision, recall, f1, support = metrics.precision_recall_fscore_support(y_true, y_pred, labels=existing_class_ind)\n",
    "    # Print report\n",
    "    print(generate_classification_report(existing_class_names, precision, recall, f1, support, ConfMatrix_normalized_row))\n",
    "\n",
    "    # Calculate average precision and recall\n",
    "    # prec_avg, rec_avg = get_avg_prec_recall(ConfMatrix, existing_class_names, excluded_classes)\n",
    "    # if excluded_classes:\n",
    "    #     print(\n",
    "    #         \"\\nAverage PRECISION: {:.2f}\\n(using class frequencies as weights, excluding classes with no predictions and predictions in '{}')\".format(\n",
    "    #             prec_avg, ', '.join(excluded_classes)))\n",
    "    #     print(\n",
    "    #         \"\\nAverage RECALL (= ACCURACY): {:.2f}\\n(using class frequencies as weights, excluding classes in '{}')\".format(\n",
    "    #             rec_avg, ', '.join(excluded_classes)))\n",
    "\n",
    "    # Make a histogram with the distribution of classes with respect to precision and recall\n",
    "    # prec_rec_histogram(precision, recall)\n",
    "\n",
    "    return {\"total_accuracy\": total_accuracy, \"precision\": precision.mean(), \"recall\": recall.mean(), \"f1\": f1.mean()}"
   ]
  },
  {
   "cell_type": "code",
   "execution_count": 23,
   "metadata": {},
   "outputs": [
    {
     "data": {
      "image/png": "[encoded data removed]",
      "text/plain": [
       "<Figure size 640x480 with 2 Axes>"
      ]
     },
     "metadata": {},
     "output_type": "display_data"
    },
    {
     "name": "stdout",
     "output_type": "stream",
     "text": [
      "Overall accuracy: 0.938\n",
      "\n",
      "              precision     recall   f1-score rel. freq. abs. freq.|\t biggest thieves\n",
      "\n",
      "         16       1.000      1.000      1.000      0.156          5|\t 17: 0.000,\t15: 0.000,\t\n",
      "         17       1.000      1.000      1.000      0.125          4|\t 16: 0.000,\t15: 0.000,\t\n",
      "          6       1.000      1.000      1.000      0.125          4|\t 17: 0.000,\t16: 0.000,\t\n",
      "         10       1.000      1.000      1.000      0.094          3|\t 17: 0.000,\t16: 0.000,\t\n",
      "          8       1.000      1.000      1.000      0.094          3|\t 17: 0.000,\t16: 0.000,\t\n",
      "          4       0.750      1.000      0.857      0.094          3|\t 17: 0.000,\t16: 0.000,\t\n",
      "         14       1.000      1.000      1.000      0.062          2|\t 17: 0.000,\t16: 0.000,\t\n",
      "          0       0.667      1.000      0.800      0.062          2|\t 17: 0.000,\t16: 0.000,\t\n",
      "         15       0.000      0.000      0.000      0.031          1|\t 4: 1.000,\t17: 0.000,\t16: 0.000,\t\n",
      "         11       1.000      1.000      1.000      0.031          1|\t 17: 0.000,\t16: 0.000,\t\n",
      "          9       1.000      1.000      1.000      0.031          1|\t 17: 0.000,\t16: 0.000,\t\n",
      "          5       1.000      1.000      1.000      0.031          1|\t 17: 0.000,\t16: 0.000,\t\n",
      "          3       0.000      0.000      0.000      0.031          1|\t 0: 1.000,\t17: 0.000,\t16: 0.000,\t\n",
      "          2       1.000      1.000      1.000      0.031          1|\t 17: 0.000,\t16: 0.000,\t\n",
      "\n",
      "----------------------------------------------------------------------------------------------------\n",
      "avg / total       0.893      0.938      0.912        1.0         32|\t      \n",
      "\n"
     ]
    },
    {
     "name": "stderr",
     "output_type": "stream",
     "text": [
      "c:\\Users\\deela\\anaconda3\\envs\\mvts_trans\\lib\\site-packages\\sklearn\\metrics\\_classification.py:1334: UndefinedMetricWarning: Precision and F-score are ill-defined and being set to 0.0 in labels with no predicted samples. Use `zero_division` parameter to control this behavior.\n",
      "  _warn_prf(average, modifier, msg_start, len(result))\n"
     ]
    },
    {
     "data": {
      "text/plain": [
       "{'total_accuracy': 0.9375,\n",
       " 'precision': 0.8154761904761905,\n",
       " 'recall': 0.8571428571428571,\n",
       " 'f1': 0.8326530612244898}"
      ]
     },
     "execution_count": 23,
     "metadata": {},
     "output_type": "execute_result"
    }
   ],
   "source": [
    "action_classes = list(range(18))\n",
    "class_names = [str(i) for i in action_classes]\n",
    "y_true = np.random.choice(action_classes, size=32, replace=True)\n",
    "# y_pred = np.random.choice(action_classes, size=32, replace=True)\n",
    "y_pred = y_true.copy()\n",
    "y_pred[2] = 4\n",
    "y_pred[14] = 0\n",
    "action_evaluator(y_pred, y_true, class_names)"
   ]
  },
  {
   "cell_type": "code",
   "execution_count": 71,
   "metadata": {},
   "outputs": [],
   "source": [
    "import torch \n",
    "from torch import nn, Tensor\n",
    "import numpy as np\n",
    "from sklearn.metrics.pairwise import cosine_similarity\n",
    "from sklearn.metrics import accuracy_score\n",
    "from tqdm import tqdm "
   ]
  },
  {
   "cell_type": "code",
   "execution_count": 24,
   "metadata": {},
   "outputs": [],
   "source": [
    "# build loss module\n",
    "class FeatureLoss(nn.Module):\n",
    "    def __init__(self):\n",
    "        super(FeatureLoss, self).__init__()\n",
    "        # self.add_aux = add_aux \n",
    "        self.loss_func = nn.CosineSimilarity(dim=1, eps=1e-6)\n",
    "\n",
    "    def forward(self, y_pred, y_true):\n",
    "        batch_loss = self.loss_func(y_pred, y_true)\n",
    "        final_loss = torch.abs(batch_loss.mean())\n",
    "        return final_loss"
   ]
  },
  {
   "cell_type": "code",
   "execution_count": 19,
   "metadata": {},
   "outputs": [
    {
     "data": {
      "text/plain": [
       "tensor(0.0029)"
      ]
     },
     "execution_count": 19,
     "metadata": {},
     "output_type": "execute_result"
    }
   ],
   "source": [
    "input1 = torch.randn(100, 128)\n",
    "input2 = torch.randn(100, 128)\n",
    "loss = FeatureLoss()\n",
    "output = loss(input1, input2)\n",
    "output"
   ]
  },
  {
   "cell_type": "code",
   "execution_count": 25,
   "metadata": {},
   "outputs": [],
   "source": [
    "class AttributeLoss(nn.Module):\n",
    "    def __init__(self):\n",
    "        super(AttributeLoss, self).__init__()\n",
    "        self.loss_func = nn.BCELoss()\n",
    "        self.m = nn.Sigmoid()\n",
    "\n",
    "    def forward(self, attr_pred, attr_true):\n",
    "        output = self.loss_func(self.m(attr_pred), attr_true)\n",
    "        return output"
   ]
  },
  {
   "cell_type": "code",
   "execution_count": 37,
   "metadata": {},
   "outputs": [
    {
     "data": {
      "text/plain": [
       "tensor(0.8271)"
      ]
     },
     "execution_count": 37,
     "metadata": {},
     "output_type": "execute_result"
    }
   ],
   "source": [
    "pred = torch.randn(32, 20)\n",
    "true = torch.empty(32, 20).random_(2)\n",
    "# loss = nn.BCELoss()\n",
    "# m = nn.Sigmoid()\n",
    "loss = AttributeLoss()\n",
    "output = loss(pred, true)\n",
    "output"
   ]
  },
  {
   "cell_type": "code",
   "execution_count": 38,
   "metadata": {},
   "outputs": [
    {
     "data": {
      "text/plain": [
       "0.8270800709724426"
      ]
     },
     "execution_count": 38,
     "metadata": {},
     "output_type": "execute_result"
    }
   ],
   "source": [
    "output.item()"
   ]
  },
  {
   "cell_type": "code",
   "execution_count": 10,
   "metadata": {},
   "outputs": [
    {
     "data": {
      "text/plain": [
       "tensor(-0.0059)"
      ]
     },
     "execution_count": 10,
     "metadata": {},
     "output_type": "execute_result"
    }
   ],
   "source": [
    "input1 = torch.randn(100, 128)\n",
    "input2 = torch.randn(100, 128)\n",
    "cos = nn.CosineSimilarity(dim=1, eps=1e-6)\n",
    "output = cos(input1, input2)\n",
    "output.mean()"
   ]
  },
  {
   "cell_type": "code",
   "execution_count": 7,
   "metadata": {},
   "outputs": [
    {
     "data": {
      "text/plain": [
       "tensor(1.6425, grad_fn=<NllLossBackward0>)"
      ]
     },
     "execution_count": 7,
     "metadata": {},
     "output_type": "execute_result"
    }
   ],
   "source": [
    "# Example of target with class indices\n",
    "loss = nn.CrossEntropyLoss()\n",
    "input = torch.randn(3, 5, requires_grad=True)\n",
    "target = torch.empty(3, dtype=torch.long).random_(5)\n",
    "output = loss(input, target)\n",
    "output"
   ]
  },
  {
   "cell_type": "code",
   "execution_count": 69,
   "metadata": {},
   "outputs": [],
   "source": [
    "def train_step(model, dataloader, optimizer, loss_module, loss_alpha, device, class_names, target_feat_met, phase='train', l2_reg=False):\n",
    "    model = model.train()\n",
    "\n",
    "    epoch_loss = 0  # total loss of epoch\n",
    "    total_samples = 0  # total samples in epoch\n",
    "\n",
    "    with tqdm(dataloader, unit=\"batch\", desc=phase) as tepoch:\n",
    "        for batch in tepoch:\n",
    "            X, targets, target_feat, target_attr, padding_masks = batch\n",
    "            X = X.float().to(device)\n",
    "            target_feat = target_feat.float().to(device)\n",
    "            target_attr = target_attr.float().to(device)\n",
    "            targets = targets.to(device)\n",
    "            padding_masks = padding_masks.to(device)  # 0s: ignore\n",
    "\n",
    "            # Zero gradients, perform a backward pass, and update the weights.\n",
    "            optimizer.zero_grad()\n",
    "            # forward\n",
    "            # track history if only in train\n",
    "            with torch.set_grad_enabled(phase == 'train'):\n",
    "            # with autocast():\n",
    "                attr_output, feat_output = model(X)\n",
    "                # print(\"feature shape\", feat_output.shape, \"target feature shape\", target_feat.shape)\n",
    "                feat_loss = loss_module['feature'](feat_output, target_feat)\n",
    "                attr_loss = loss_module['attribute'](attr_output, target_attr)\n",
    "\n",
    "            # define composite loss function\n",
    "            loss = loss_alpha*feat_loss+(1-loss_alpha)*attr_loss\n",
    "            # backward + optimize only if in training phase\n",
    "            if phase == 'train':\n",
    "                loss.backward()\n",
    "                optimizer.step()\n",
    "\n",
    "            metrics = {\"loss\": loss.item()}\n",
    "            # if i % print_interval == 0:\n",
    "            #     ending = \"\" if epoch_num is None else 'Epoch {} '.format(epoch_num)\n",
    "            #     self.print_callback(i, metrics, prefix='Training ' + ending)\n",
    "\n",
    "            with torch.no_grad():\n",
    "                total_samples += len(targets)\n",
    "                epoch_loss += loss.item()  # add total loss of batch\n",
    "\n",
    "            # convert feature vector into action class\n",
    "            # using cosine \n",
    "            feat_numpy = feat_output.cpu().detach()\n",
    "            action_probs = cosine_similarity(feat_numpy, target_feat_met)\n",
    "            pred_action = np.argmax(action_probs, axis=1)\n",
    "            metrics[\"accuracy\"] = accuracy_score(y_true=targets.cpu().detach().numpy(), y_pred=pred_action)\n",
    "            tepoch.set_postfix(metrics)\n",
    "            \n",
    "    epoch_loss = epoch_loss / total_samples  # average loss per sample for whole epoch\n",
    "    return metrics"
   ]
  },
  {
   "cell_type": "code",
   "execution_count": 25,
   "metadata": {},
   "outputs": [],
   "source": [
    "from sklearn.metrics.pairwise import cosine_distances, cosine_similarity"
   ]
  },
  {
   "cell_type": "code",
   "execution_count": 26,
   "metadata": {},
   "outputs": [],
   "source": [
    "action_feature = np.random.rand(18, 64)\n",
    "batch_pred = np.random.rand(32, 64)"
   ]
  },
  {
   "cell_type": "code",
   "execution_count": 27,
   "metadata": {},
   "outputs": [
    {
     "data": {
      "text/plain": [
       "(32, 18)"
      ]
     },
     "execution_count": 27,
     "metadata": {},
     "output_type": "execute_result"
    }
   ],
   "source": [
    "cos_met = cosine_similarity(batch_pred, action_feature)\n",
    "cos_met.shape"
   ]
  },
  {
   "cell_type": "code",
   "execution_count": 31,
   "metadata": {},
   "outputs": [
    {
     "data": {
      "text/plain": [
       "array([ 0, 17,  9, 13, 17,  4,  1, 17, 17,  9,  4,  7,  0, 17, 17, 17, 14,\n",
       "       17,  0,  1, 15,  5, 10,  0,  9, 17,  9, 17,  4,  9, 17, 17],\n",
       "      dtype=int64)"
      ]
     },
     "execution_count": 31,
     "metadata": {},
     "output_type": "execute_result"
    }
   ],
   "source": [
    "np.argmax(cos_met, axis=1)"
   ]
  },
  {
   "cell_type": "code",
   "execution_count": 72,
   "metadata": {},
   "outputs": [],
   "source": [
    "def eval_step(model, dataloader, loss_module, loss_alpha, device, class_names, target_feat_met, phase='train', l2_reg=False):\n",
    "    model = model.train()\n",
    "\n",
    "    epoch_loss = 0  # total loss of epoch\n",
    "    total_samples = 0  # total samples in epoch\n",
    "    per_batch = {'target_masks': [], 'targets': [], 'predictions': [], 'metrics': [], 'IDs': []}\n",
    "\n",
    "    with tqdm(dataloader, unit=\"batch\", desc=phase) as tepoch:\n",
    "        for batch in tepoch:\n",
    "            X, targets, target_feat, target_attr, padding_masks = batch\n",
    "            X = X.float().to(device)\n",
    "            target_feat = target_feat.float().to(device)\n",
    "            target_attr = target_attr.float().to(device)\n",
    "            targets = targets.to(device)\n",
    "            padding_masks = padding_masks.to(device)  # 0s: ignore\n",
    "            # forward\n",
    "            # track history if only in train\n",
    "            with torch.set_grad_enabled(phase == 'train'):\n",
    "            # with autocast():\n",
    "                attr_output, feat_output = model(X)\n",
    "                # print(\"feature shape\", feat_output.shape, \"target feature shape\", target_feat.shape)\n",
    "                feat_loss = loss_module['feature'](feat_output, target_feat)\n",
    "                attr_loss = loss_module['attribute'](attr_output, target_attr)\n",
    "\n",
    "            # define composite loss function\n",
    "            loss = loss_alpha*feat_loss+(1-loss_alpha)*attr_loss\n",
    "\n",
    "            # convert feature vector into action class\n",
    "            # using cosine \n",
    "            feat_numpy = feat_output.cpu().detach()\n",
    "            action_probs = cosine_similarity(feat_numpy, target_feat_met)\n",
    "            pred_action = np.argmax(action_probs, axis=1)\n",
    "            \n",
    "            per_batch['targets'].append(targets.cpu().numpy())\n",
    "            per_batch['predictions'].append(pred_action)\n",
    "            per_batch['metrics'].append([loss.cpu().numpy()])\n",
    "\n",
    "            tepoch.set_postfix({\"loss\": loss.item()})\n",
    "    \n",
    "    all_preds = np.concatenate(per_batch[\"predictions\"])\n",
    "    all_targets = np.concatenate(per_batch[\"targets\"])\n",
    "    metrics_dict = action_evaluator(y_pred=all_preds, y_true=all_targets, class_names=class_names)\n",
    "    return metrics_dict\n"
   ]
  },
  {
   "cell_type": "code",
   "execution_count": null,
   "metadata": {},
   "outputs": [],
   "source": []
  },
  {
   "cell_type": "markdown",
   "metadata": {},
   "source": [
    "---\n",
    "Attribute evaluate"
   ]
  },
  {
   "cell_type": "code",
   "execution_count": null,
   "metadata": {},
   "outputs": [],
   "source": [
    "\n"
   ]
  },
  {
   "cell_type": "code",
   "execution_count": null,
   "metadata": {},
   "outputs": [],
   "source": []
  },
  {
   "cell_type": "markdown",
   "metadata": {},
   "source": [
    "---\n",
    "Main"
   ]
  },
  {
   "cell_type": "code",
   "execution_count": 30,
   "metadata": {},
   "outputs": [],
   "source": [
    "from torch.optim import Adam\n",
    "from tqdm import tqdm\n",
    "from copy import deepcopy"
   ]
  },
  {
   "cell_type": "code",
   "execution_count": null,
   "metadata": {},
   "outputs": [],
   "source": []
  },
  {
   "cell_type": "code",
   "execution_count": null,
   "metadata": {},
   "outputs": [],
   "source": [
    "# run \n",
    "device = torch.device(\"cuda:0\" if torch.cuda.is_available() else \"cpu\")\n",
    "# import PAMAP2 dataset\n",
    "dataReader = PAMAP2Reader('../data/PAMAP2_Dataset/Protocol/')\n",
    "actionList = dataReader.idToLabel\n",
    "# import PAMAP2 attributes\n",
    "activity_dict, attribute_dict, attr_mat = load_attribute('./PAMAP2_attributes.json')\n",
    "_, attr_size = attr_mat.shape\n",
    "# import action features\n",
    "feat_size = 64\n",
    "n_actions = 18 \n",
    "feat_mat = np.random.randn(n_actions, feat_size) \n",
    "\n",
    "# run 5-fold running\n",
    "fold_classes = [['watching TV', 'house cleaning', 'standing', 'ascending stairs'], ['walking', 'rope jumping', 'sitting', 'descending stairs'], ['playing soccer', 'lying', 'vacuum cleaning', 'computer work'], ['cycling', 'running', 'Nordic walking'], ['ironing', 'car driving', 'folding laundry']]\n",
    "fold_cls_ids = [[actionList.index(i) for i in j] for j in fold_classes]\n",
    "for i, cs in enumerate(fold_cls_ids):\n",
    "    # separate seen/unseen and train/eval \n",
    "    data_dict = dataReader.generate(unseen_classes=cs, resampling=True, seen_ratio=0.2, unseen_ratio=0.8)\n",
    "    train_n, seq_len, in_ft = data_dict['train']['X'].shape\n",
    "    # build train_dt \n",
    "    train_dt = PAMAP2Dataset(data=data_dict['train']['X'], actions=data_dict['train']['y'], attributes=attr_mat, action_feats=feat_mat)\n",
    "    train_dl = DataLoader(train_dt, batch_size=32, shuffle=True, pin_memory=True)\n",
    "    # build seen eval_dt \n",
    "    eval_dt = PAMAP2Dataset(data=data_dict['eval-seen']['X'], actions=data_dict['eval-seen']['y'], attributes=attr_mat, action_feats=feat_mat)\n",
    "    eval_dl = DataLoader(eval_dt, batch_size=32, shuffle=True, pin_memory=True)\n",
    "    # build unseen test_dt\n",
    "    test_dt = PAMAP2Dataset(data=data_dict['test']['X'], actions=data_dict['test']['y'], attributes=attr_mat, action_feats=feat_mat)\n",
    "    test_dl = DataLoader(test_dt, batch_size=32, shuffle=True, pin_memory=True)\n",
    "    \n",
    "    # build model\n",
    "    model = ZSLHARNet(in_ft=in_ft, d_model=128, num_heads=8, ft_size=feat_size, attr_size=attr_size, max_len=seq_len)\n",
    "    model.to(device)\n",
    "    # define run parameters \n",
    "    lr = 0.001\n",
    "    epochs = 3\n",
    "    optimizer = Adam(model.parameters(), lr=lr)\n",
    "    loss_module = {'feature': FeatureLoss(), 'attribute': AttributeLoss()}\n",
    "    best_acc = 0.0\n",
    "    # train the model \n",
    "    for epoch in tqdm(range(epochs), desc='Training Epoch', leave=False):\n",
    "        train_metrics = train_step(model, train_dl, optimizer, loss_module, 0.7, device, class_names=class_names, target_feat_met=train_dt.target_feat, phase='train')\n",
    "        eval_metrics = eval_step(model, eval_dl, loss_module, 0.7, device, class_names=class_names,  target_feat_met=train_dt.target_feat, phase='eval')\n",
    "        # print(f\"EPOCH [{epoch}] TRAINING : {train_metrics}\")\n",
    "        # print(f\"EPOCH [{epoch}] EVAL : {eval_metrics}\")\n",
    "        if eval_metrics['total_accuracy'] > best_acc:\n",
    "            best_model = deepcopy(model.state_dict())\n",
    "    \n",
    "    if best_acc == 0.0:\n",
    "        best_model = deepcopy(model.state_dict())\n",
    "    \n",
    "    # replace by best model \n",
    "    model.load_state_dict(best_model)\n",
    "\n",
    "    # run evaluation on unseen classes\n",
    "    test_metrics = eval_step(model, test_dl, loss_module, 0.7, device, class_names=class_names,  target_feat_met=train_dt.target_feat, phase='eval')\n",
    "    print(test_metrics)"
   ]
  },
  {
   "cell_type": "code",
   "execution_count": 73,
   "metadata": {},
   "outputs": [
    {
     "name": "stderr",
     "output_type": "stream",
     "text": [
      "train: 100%|██████████| 16/16 [00:00<00:00, 43.92batch/s]\n",
      "C:\\Users\\deela\\AppData\\Local\\Temp\\ipykernel_25404\\917593703.py:108: RuntimeWarning: invalid value encountered in divide\n",
      "  ConfMatrix_normalized_row = ConfMatrix.astype('float') / ConfMatrix.sum(axis=1)[:, np.newaxis] #@nipdep\n"
     ]
    },
    {
     "data": {
      "image/png": "[encoded data removed]",
      "text/plain": [
       "<Figure size 640x480 with 2 Axes>"
      ]
     },
     "metadata": {},
     "output_type": "display_data"
    },
    {
     "name": "stderr",
     "output_type": "stream",
     "text": [
      "c:\\Users\\deela\\anaconda3\\envs\\mvts_trans\\lib\\site-packages\\sklearn\\metrics\\_classification.py:1334: UndefinedMetricWarning: Precision and F-score are ill-defined and being set to 0.0 in labels with no predicted samples. Use `zero_division` parameter to control this behavior.\n",
      "  _warn_prf(average, modifier, msg_start, len(result))\n",
      "c:\\Users\\deela\\anaconda3\\envs\\mvts_trans\\lib\\site-packages\\sklearn\\metrics\\_classification.py:1334: UndefinedMetricWarning: Recall and F-score are ill-defined and being set to 0.0 in labels with no true samples. Use `zero_division` parameter to control this behavior.\n",
      "  _warn_prf(average, modifier, msg_start, len(result))\n"
     ]
    },
    {
     "name": "stdout",
     "output_type": "stream",
     "text": [
      "Overall accuracy: 0.000\n",
      "\n",
      "              precision     recall   f1-score rel. freq. abs. freq.|\t biggest thieves\n",
      "\n",
      "          5       0.000      0.000      0.000      0.300        6.0|\t 1: 0.833,\t7: 0.167,\t11: 0.000,\t\n",
      "          6       0.000      0.000      0.000      0.150        3.0|\t 1: 1.000,\t11: 0.000,\t10: 0.000,\t\n",
      "         10       0.000      0.000      0.000      0.100        2.0|\t 7: 0.500,\t1: 0.500,\t11: 0.000,\t\n",
      "          9       0.000      0.000      0.000      0.100        2.0|\t 7: 0.500,\t1: 0.500,\t11: 0.000,\t\n",
      "          4       0.000      0.000      0.000      0.100        2.0|\t 1: 1.000,\t11: 0.000,\t10: 0.000,\t\n",
      "          0       0.000      0.000      0.000      0.100        2.0|\t 7: 0.500,\t1: 0.500,\t11: 0.000,\t\n",
      "         11       0.000      0.000      0.000      0.050        1.0|\t 1: 1.000,\t10: 0.000,\t\n",
      "          8       0.000      0.000      0.000      0.050        1.0|\t 1: 1.000,\t11: 0.000,\t10: 0.000,\t\n",
      "          7       0.000      0.000      0.000      0.050        1.0|\t 1: 1.000,\t11: 0.000,\t10: 0.000,\t\n",
      "          1       0.000      0.000      0.000      0.000        0.0|\t 11: nan,\t10: nan,\t9: nan,\t\n",
      "\n",
      "----------------------------------------------------------------------------------------------------\n",
      "avg / total       0.000      0.000      0.000        1.0       20.0|\t      \n",
      "\n"
     ]
    },
    {
     "name": "stderr",
     "output_type": "stream",
     "text": [
      "eval: 100%|██████████| 4/4 [00:00<00:00, 67.99batch/s, loss=0.314]\n"
     ]
    },
    {
     "data": {
      "image/png": "[encoded data removed]",
      "text/plain": [
       "<Figure size 640x480 with 2 Axes>"
      ]
     },
     "metadata": {},
     "output_type": "display_data"
    },
    {
     "name": "stderr",
     "output_type": "stream",
     "text": [
      "c:\\Users\\deela\\anaconda3\\envs\\mvts_trans\\lib\\site-packages\\sklearn\\metrics\\_classification.py:1334: UndefinedMetricWarning: Precision and F-score are ill-defined and being set to 0.0 in labels with no predicted samples. Use `zero_division` parameter to control this behavior.\n",
      "  _warn_prf(average, modifier, msg_start, len(result))\n",
      "Training Epoch:  33%|███▎      | 1/3 [00:01<00:02,  1.01s/it]"
     ]
    },
    {
     "name": "stdout",
     "output_type": "stream",
     "text": [
      "Overall accuracy: 0.070\n",
      "\n",
      "              precision     recall   f1-score rel. freq. abs. freq.|\t biggest thieves\n",
      "\n",
      "          2       0.000      0.000      0.000      0.160         16|\t 1: 0.812,\t7: 0.188,\t11: 0.000,\t\n",
      "          0       0.000      0.000      0.000      0.150         15|\t 1: 0.800,\t7: 0.200,\t11: 0.000,\t\n",
      "          8       0.000      0.000      0.000      0.110         11|\t 1: 0.727,\t7: 0.273,\t11: 0.000,\t\n",
      "         11       0.000      0.000      0.000      0.100         10|\t 1: 0.700,\t7: 0.300,\t\n",
      "          3       0.000      0.000      0.000      0.100         10|\t 7: 0.500,\t1: 0.500,\t11: 0.000,\t\n",
      "          6       0.000      0.000      0.000      0.090          9|\t 1: 0.889,\t7: 0.111,\t11: 0.000,\t\n",
      "          7       0.115      0.500      0.188      0.060          6|\t 1: 0.500,\t11: 0.000,\t\n",
      "          1       0.054      0.667      0.100      0.060          6|\t 7: 0.333,\t11: 0.000,\t\n",
      "         10       0.000      0.000      0.000      0.050          5|\t 1: 0.800,\t7: 0.200,\t11: 0.000,\t\n",
      "          5       0.000      0.000      0.000      0.050          5|\t 1: 0.800,\t7: 0.200,\t11: 0.000,\t\n",
      "          4       0.000      0.000      0.000      0.040          4|\t 1: 0.750,\t7: 0.250,\t11: 0.000,\t\n",
      "          9       0.000      0.000      0.000      0.030          3|\t 1: 1.000,\t11: 0.000,\t10: 0.000,\t\n",
      "\n",
      "----------------------------------------------------------------------------------------------------\n",
      "avg / total       0.010      0.070      0.017        1.0        100|\t      \n",
      "\n",
      "EPOCH [0] TRAINING : {'loss': 0.26123476028442383, 'total_accuracy': 0.0, 'precision': 0.0, 'recall': 0.0, 'f1': 0.0}\n",
      "EPOCH [0] EVAL : {'total_accuracy': 0.07, 'precision': 0.014119889119889121, 'recall': 0.09722222222222221, 'f1': 0.02395833333333333}\n"
     ]
    },
    {
     "name": "stderr",
     "output_type": "stream",
     "text": [
      "train: 100%|██████████| 16/16 [00:00<00:00, 43.09batch/s]\n"
     ]
    },
    {
     "data": {
      "image/png": "[encoded data removed]",
      "text/plain": [
       "<Figure size 640x480 with 2 Axes>"
      ]
     },
     "metadata": {},
     "output_type": "display_data"
    },
    {
     "name": "stderr",
     "output_type": "stream",
     "text": [
      "c:\\Users\\deela\\anaconda3\\envs\\mvts_trans\\lib\\site-packages\\sklearn\\metrics\\_classification.py:1334: UndefinedMetricWarning: Precision and F-score are ill-defined and being set to 0.0 in labels with no predicted samples. Use `zero_division` parameter to control this behavior.\n",
      "  _warn_prf(average, modifier, msg_start, len(result))\n"
     ]
    },
    {
     "name": "stdout",
     "output_type": "stream",
     "text": [
      "Overall accuracy: 0.100\n",
      "\n",
      "              precision     recall   f1-score rel. freq. abs. freq.|\t biggest thieves\n",
      "\n",
      "         10       0.000      0.000      0.000      0.150          3|\t 7: 1.000,\t11: 0.000,\t\n",
      "          9       0.000      0.000      0.000      0.150          3|\t 7: 1.000,\t11: 0.000,\t10: 0.000,\t\n",
      "          6       0.000      0.000      0.000      0.150          3|\t 7: 1.000,\t11: 0.000,\t10: 0.000,\t\n",
      "          7       0.100      1.000      0.182      0.100          2|\t 11: 0.000,\t10: 0.000,\t\n",
      "          4       0.000      0.000      0.000      0.100          2|\t 7: 1.000,\t11: 0.000,\t10: 0.000,\t\n",
      "          1       0.000      0.000      0.000      0.100          2|\t 7: 1.000,\t11: 0.000,\t10: 0.000,\t\n",
      "         11       0.000      0.000      0.000      0.050          1|\t 7: 1.000,\t10: 0.000,\t\n",
      "          8       0.000      0.000      0.000      0.050          1|\t 7: 1.000,\t11: 0.000,\t10: 0.000,\t\n",
      "          5       0.000      0.000      0.000      0.050          1|\t 7: 1.000,\t11: 0.000,\t10: 0.000,\t\n",
      "          2       0.000      0.000      0.000      0.050          1|\t 7: 1.000,\t11: 0.000,\t10: 0.000,\t\n",
      "          0       0.000      0.000      0.000      0.050          1|\t 7: 1.000,\t11: 0.000,\t10: 0.000,\t\n",
      "\n",
      "----------------------------------------------------------------------------------------------------\n",
      "avg / total       0.010      0.100      0.018 1.0000000000000002         20|\t      \n",
      "\n"
     ]
    },
    {
     "name": "stderr",
     "output_type": "stream",
     "text": [
      "eval: 100%|██████████| 4/4 [00:00<00:00, 57.97batch/s, loss=0.231]\n"
     ]
    },
    {
     "data": {
      "image/png": "[encoded data removed]",
      "text/plain": [
       "<Figure size 640x480 with 2 Axes>"
      ]
     },
     "metadata": {},
     "output_type": "display_data"
    },
    {
     "name": "stderr",
     "output_type": "stream",
     "text": [
      "c:\\Users\\deela\\anaconda3\\envs\\mvts_trans\\lib\\site-packages\\sklearn\\metrics\\_classification.py:1334: UndefinedMetricWarning: Precision and F-score are ill-defined and being set to 0.0 in labels with no predicted samples. Use `zero_division` parameter to control this behavior.\n",
      "  _warn_prf(average, modifier, msg_start, len(result))\n",
      "Training Epoch:  67%|██████▋   | 2/3 [00:02<00:01,  1.02s/it]"
     ]
    },
    {
     "name": "stdout",
     "output_type": "stream",
     "text": [
      "Overall accuracy: 0.060\n",
      "\n",
      "              precision     recall   f1-score rel. freq. abs. freq.|\t biggest thieves\n",
      "\n",
      "          2       0.000      0.000      0.000      0.160         16|\t 7: 1.000,\t11: 0.000,\t10: 0.000,\t\n",
      "          0       0.000      0.000      0.000      0.150         15|\t 7: 1.000,\t11: 0.000,\t10: 0.000,\t\n",
      "          8       0.000      0.000      0.000      0.110         11|\t 7: 1.000,\t11: 0.000,\t10: 0.000,\t\n",
      "         11       0.000      0.000      0.000      0.100         10|\t 7: 1.000,\t10: 0.000,\t\n",
      "          3       0.000      0.000      0.000      0.100         10|\t 7: 1.000,\t11: 0.000,\t10: 0.000,\t\n",
      "          6       0.000      0.000      0.000      0.090          9|\t 7: 1.000,\t11: 0.000,\t10: 0.000,\t\n",
      "          7       0.061      1.000      0.114      0.060          6|\t 11: 0.000,\t10: 0.000,\t\n",
      "          1       0.000      0.000      0.000      0.060          6|\t 7: 1.000,\t11: 0.000,\t10: 0.000,\t\n",
      "         10       0.000      0.000      0.000      0.050          5|\t 7: 1.000,\t11: 0.000,\t\n",
      "          5       0.000      0.000      0.000      0.050          5|\t 7: 1.000,\t11: 0.000,\t10: 0.000,\t\n",
      "          4       0.000      0.000      0.000      0.040          4|\t 7: 0.750,\t8: 0.250,\t11: 0.000,\t\n",
      "          9       0.000      0.000      0.000      0.030          3|\t 7: 1.000,\t11: 0.000,\t10: 0.000,\t\n",
      "\n",
      "----------------------------------------------------------------------------------------------------\n",
      "avg / total       0.004      0.060      0.007        1.0        100|\t      \n",
      "\n",
      "EPOCH [1] TRAINING : {'loss': 0.2246086746454239, 'total_accuracy': 0.1, 'precision': 0.009090909090909092, 'recall': 0.09090909090909091, 'f1': 0.01652892561983471}\n",
      "EPOCH [1] EVAL : {'total_accuracy': 0.06, 'precision': 0.005050505050505051, 'recall': 0.08333333333333333, 'f1': 0.009523809523809525}\n"
     ]
    },
    {
     "name": "stderr",
     "output_type": "stream",
     "text": [
      "train: 100%|██████████| 16/16 [00:00<00:00, 43.42batch/s]\n"
     ]
    },
    {
     "data": {
      "image/png": "[encoded data removed]",
      "text/plain": [
       "<Figure size 640x480 with 2 Axes>"
      ]
     },
     "metadata": {},
     "output_type": "display_data"
    },
    {
     "name": "stderr",
     "output_type": "stream",
     "text": [
      "c:\\Users\\deela\\anaconda3\\envs\\mvts_trans\\lib\\site-packages\\sklearn\\metrics\\_classification.py:1334: UndefinedMetricWarning: Precision and F-score are ill-defined and being set to 0.0 in labels with no predicted samples. Use `zero_division` parameter to control this behavior.\n",
      "  _warn_prf(average, modifier, msg_start, len(result))\n"
     ]
    },
    {
     "name": "stdout",
     "output_type": "stream",
     "text": [
      "Overall accuracy: 0.100\n",
      "\n",
      "              precision     recall   f1-score rel. freq. abs. freq.|\t biggest thieves\n",
      "\n",
      "          6       0.000      0.000      0.000      0.150          3|\t 8: 1.000,\t11: 0.000,\t10: 0.000,\t\n",
      "          2       0.000      0.000      0.000      0.150          3|\t 8: 1.000,\t11: 0.000,\t10: 0.000,\t\n",
      "         11       0.000      0.000      0.000      0.100          2|\t 8: 1.000,\t10: 0.000,\t\n",
      "         10       0.000      0.000      0.000      0.100          2|\t 8: 1.000,\t11: 0.000,\t\n",
      "          8       0.125      1.000      0.222      0.100          2|\t 11: 0.000,\t10: 0.000,\t\n",
      "          5       0.000      0.000      0.000      0.100          2|\t 8: 1.000,\t11: 0.000,\t10: 0.000,\t\n",
      "          0       0.000      0.000      0.000      0.100          2|\t 5: 1.000,\t11: 0.000,\t10: 0.000,\t\n",
      "          9       0.000      0.000      0.000      0.050          1|\t 8: 1.000,\t11: 0.000,\t10: 0.000,\t\n",
      "          7       0.000      0.000      0.000      0.050          1|\t 5: 1.000,\t11: 0.000,\t10: 0.000,\t\n",
      "          3       0.000      0.000      0.000      0.050          1|\t 5: 1.000,\t11: 0.000,\t10: 0.000,\t\n",
      "          1       0.000      0.000      0.000      0.050          1|\t 8: 1.000,\t11: 0.000,\t10: 0.000,\t\n",
      "\n",
      "----------------------------------------------------------------------------------------------------\n",
      "avg / total       0.013      0.100      0.022        1.0         20|\t      \n",
      "\n"
     ]
    },
    {
     "name": "stderr",
     "output_type": "stream",
     "text": [
      "eval: 100%|██████████| 4/4 [00:00<00:00, 78.43batch/s, loss=0.23]\n"
     ]
    },
    {
     "data": {
      "image/png": "[encoded data removed]",
      "text/plain": [
       "<Figure size 640x480 with 2 Axes>"
      ]
     },
     "metadata": {},
     "output_type": "display_data"
    },
    {
     "name": "stderr",
     "output_type": "stream",
     "text": [
      "c:\\Users\\deela\\anaconda3\\envs\\mvts_trans\\lib\\site-packages\\sklearn\\metrics\\_classification.py:1334: UndefinedMetricWarning: Precision and F-score are ill-defined and being set to 0.0 in labels with no predicted samples. Use `zero_division` parameter to control this behavior.\n",
      "  _warn_prf(average, modifier, msg_start, len(result))\n",
      "                                                             "
     ]
    },
    {
     "name": "stdout",
     "output_type": "stream",
     "text": [
      "Overall accuracy: 0.070\n",
      "\n",
      "              precision     recall   f1-score rel. freq. abs. freq.|\t biggest thieves\n",
      "\n",
      "          2       0.000      0.000      0.000      0.160         16|\t 8: 0.688,\t5: 0.312,\t11: 0.000,\t\n",
      "          0       0.000      0.000      0.000      0.150         15|\t 8: 0.533,\t5: 0.333,\t3: 0.133,\t\n",
      "          8       0.087      0.364      0.140      0.110         11|\t 5: 0.455,\t3: 0.182,\t\n",
      "         11       0.000      0.000      0.000      0.100         10|\t 8: 0.500,\t5: 0.500,\t\n",
      "          3       0.200      0.200      0.200      0.100         10|\t 5: 0.500,\t8: 0.300,\t\n",
      "          6       0.000      0.000      0.000      0.090          9|\t 5: 0.667,\t8: 0.333,\t11: 0.000,\t\n",
      "          7       0.000      0.000      0.000      0.060          6|\t 8: 0.500,\t5: 0.500,\t11: 0.000,\t\n",
      "          1       0.000      0.000      0.000      0.060          6|\t 5: 0.500,\t8: 0.333,\t3: 0.167,\t\n",
      "         10       0.000      0.000      0.000      0.050          5|\t 8: 0.400,\t5: 0.400,\t3: 0.200,\t\n",
      "          5       0.023      0.200      0.041      0.050          5|\t 8: 0.400,\t3: 0.400,\t\n",
      "          4       0.000      0.000      0.000      0.040          4|\t 5: 0.750,\t8: 0.250,\t11: 0.000,\t\n",
      "          9       0.000      0.000      0.000      0.030          3|\t 8: 0.667,\t5: 0.333,\t11: 0.000,\t\n",
      "\n",
      "----------------------------------------------------------------------------------------------------\n",
      "avg / total       0.031      0.070      0.037        1.0        100|\t      \n",
      "\n",
      "EPOCH [2] TRAINING : {'loss': 0.24890771508216858, 'total_accuracy': 0.1, 'precision': 0.011363636363636364, 'recall': 0.09090909090909091, 'f1': 0.0202020202020202}\n",
      "EPOCH [2] EVAL : {'total_accuracy': 0.07, 'precision': 0.025806982872200263, 'recall': 0.06363636363636364, 'f1': 0.0317639336436329}\n"
     ]
    },
    {
     "name": "stderr",
     "output_type": "stream",
     "text": [
      "\r"
     ]
    }
   ],
   "source": [
    "# run\n",
    "\n",
    "# data reader\n",
    "# dataReader = PAMAP2Reader('../data/PAMAP2_Dataset/Protocol/')\n",
    "class_names = [str(i) for i in range(12)]\n",
    "device = torch.device(\"cuda:0\" if torch.cuda.is_available() else \"cpu\")\n",
    "\n",
    "# setup dataset\n",
    "train_dt = MockDataset(n=500, max_len=120, n_ft=16, n_attr=32, n_actions=12)\n",
    "eval_dt = MockDataset(n=100, max_len=120, n_ft=16, n_attr=32, n_actions=12, target_feat=train_dt.target_feat)\n",
    "train_dl = DataLoader(train_dt, batch_size=32, shuffle=True, pin_memory=True)\n",
    "eval_dl = DataLoader(eval_dt, batch_size=32, shuffle=True, pin_memory=True)\n",
    "\n",
    "unseen_dt = MockDataset(n=200, max_len=120, n_ft=16, n_attr=32, n_actions=4)\n",
    "unseen_dl = DataLoader(unseen_dt, batch_size=32, shuffle=True, pin_memory=True)\n",
    "\n",
    "# config model\n",
    "lr = 0.001\n",
    "epochs = 3\n",
    "\n",
    "model = ZSLHARNet(in_ft=16, d_model=128, num_heads=8, ft_size=16, attr_size=32, max_len=120)\n",
    "model.to(device)\n",
    "optimizer = Adam(model.parameters(), lr=lr)\n",
    "loss_module = {'feature': FeatureLoss(), 'attribute': AttributeLoss()}\n",
    "\n",
    "\n",
    "\n",
    "for epoch in tqdm(range(epochs), desc='Training Epoch', leave=False):\n",
    "    train_metrics = train_step(model, train_dl, optimizer, loss_module, 0.7, device, class_names=class_names, target_feat_met=train_dt.target_feat, phase='train')\n",
    "    eval_metrics = eval_step(model, eval_dl, loss_module, 0.7, device, class_names=class_names,  target_feat_met=train_dt.target_feat, phase='eval')\n",
    "    # print(f\"EPOCH [{epoch}] TRAINING : {train_metrics}\")\n",
    "    # print(f\"EPOCH [{epoch}] EVAL : {eval_metrics}\")"
   ]
  },
  {
   "cell_type": "code",
   "execution_count": null,
   "metadata": {},
   "outputs": [],
   "source": [
    "# Initialize data generators\n",
    "dataset_class, collate_fn, runner_class = pipeline_factory(config)\n",
    "val_dataset = dataset_class(val_data, val_indices)\n",
    "\n",
    "val_loader = DataLoader(dataset=val_dataset,\n",
    "                        batch_size=config['batch_size'],\n",
    "                        shuffle=False,\n",
    "                        num_workers=config['num_workers'],\n",
    "                        pin_memory=True,\n",
    "                        collate_fn=lambda x: collate_fn(x, max_len=model.max_len))\n",
    "\n",
    "train_dataset = dataset_class(my_data, train_indices)\n",
    "\n",
    "train_loader = DataLoader(dataset=train_dataset,\n",
    "                            batch_size=config['batch_size'],\n",
    "                            shuffle=True,\n",
    "                            num_workers=config['num_workers'],\n",
    "                            pin_memory=True,\n",
    "                            collate_fn=lambda x: collate_fn(x, max_len=model.max_len))\n",
    "\n",
    "trainer = runner_class(model, train_loader, device, loss_module, optimizer, l2_reg=output_reg,\n",
    "                                print_interval=config['print_interval'], console=config['console'])\n",
    "val_evaluator = runner_class(model, val_loader, device, loss_module,\n",
    "                                    print_interval=config['print_interval'], console=config['console'])\n",
    "\n",
    "tensorboard_writer = SummaryWriter(config['tensorboard_dir'])\n",
    "\n",
    "best_value = 1e16 if config['key_metric'] in NEG_METRICS else -1e16  # initialize with +inf or -inf depending on key metric\n",
    "metrics = []  # (for validation) list of lists: for each epoch, stores metrics like loss, ...\n",
    "best_metrics = {}"
   ]
  },
  {
   "cell_type": "code",
   "execution_count": null,
   "metadata": {},
   "outputs": [],
   "source": []
  },
  {
   "cell_type": "code",
   "execution_count": null,
   "metadata": {},
   "outputs": [],
   "source": []
  }
 ],
 "metadata": {
  "kernelspec": {
   "display_name": "Python 3.8.13 ('mvts_trans')",
   "language": "python",
   "name": "python3"
  },
  "language_info": {
   "codemirror_mode": {
    "name": "ipython",
    "version": 3
   },
   "file_extension": ".py",
   "mimetype": "text/x-python",
   "name": "python",
   "nbconvert_exporter": "python",
   "pygments_lexer": "ipython3",
   "version": "3.8.13"
  },
  "orig_nbformat": 4,
  "vscode": {
   "interpreter": {
    "hash": "ccc35149ad8fa032444ebff1245e6ef176e6c1ce3af8dec48e3374f21a6b0f27"
   }
  }
 },
 "nbformat": 4,
 "nbformat_minor": 2
}
